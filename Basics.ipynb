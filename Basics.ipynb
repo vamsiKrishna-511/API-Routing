{
  "cells": [
    {
      "cell_type": "markdown",
      "metadata": {
        "id": "view-in-github",
        "colab_type": "text"
      },
      "source": [
        "<a href=\"https://colab.research.google.com/github/vamsiKrishna-511/API-Routing/blob/main/Basics.ipynb\" target=\"_parent\"><img src=\"https://colab.research.google.com/assets/colab-badge.svg\" alt=\"Open In Colab\"/></a>"
      ]
    },
    {
      "cell_type": "markdown",
      "metadata": {
        "id": "FY1Up7iRPnqG"
      },
      "source": [
        "## Basics of Python"
      ]
    },
    {
      "cell_type": "markdown",
      "metadata": {
        "id": "EBS7I6O1PnqG"
      },
      "source": [
        "Python is a high-level, dynamically typed multiparadigm programming language. Python code is often said to be almost like pseudocode, since it allows you to express very powerful ideas in very few lines of code while being very readable."
      ]
    },
    {
      "cell_type": "markdown",
      "metadata": {
        "id": "V9bf62sZs49G"
      },
      "source": [
        "Data types in python:\n",
        "\n",
        "1. Numeric types: int, float\n",
        "2. Sequence types: list, tuple, range\n",
        "3. Boolean type\n",
        "4. Mapping type: Dict\n",
        "5. Set types: set, frozen set.\n",
        "6. String type: str"
      ]
    },
    {
      "cell_type": "markdown",
      "metadata": {
        "id": "Vmm3DnzPPnqH"
      },
      "source": [
        "### Integers\n",
        "\n",
        "Integer literals are created by any number without a decimal or complex component."
      ]
    },
    {
      "cell_type": "code",
      "execution_count": null,
      "metadata": {
        "id": "-6Gygr_Qs49H"
      },
      "outputs": [],
      "source": [
        "a = 30 # a is an interger\n",
        "print(type(a))"
      ]
    },
    {
      "cell_type": "markdown",
      "metadata": {
        "id": "KCIcUlolPnqJ"
      },
      "source": [
        "### Floats\n",
        "\n",
        "Float literals can be created by adding a decimal component to a number."
      ]
    },
    {
      "cell_type": "code",
      "execution_count": null,
      "metadata": {
        "id": "NYSa5vGCPnqK"
      },
      "outputs": [],
      "source": [
        "#float\n",
        "x = 1.5\n",
        "print(type(x))"
      ]
    },
    {
      "cell_type": "markdown",
      "metadata": {
        "id": "cu0K9favPnqK"
      },
      "source": [
        "### Boolean\n",
        "\n",
        "Boolean can be defined by typing True/False without quotes"
      ]
    },
    {
      "cell_type": "code",
      "execution_count": null,
      "metadata": {
        "id": "pT7Htb-BPnqL"
      },
      "outputs": [],
      "source": [
        "# boolean\n",
        "b1 = True\n",
        "b2 = False\n",
        "\n",
        "print(type(b2))\n",
        "b2"
      ]
    },
    {
      "cell_type": "markdown",
      "metadata": {
        "id": "Dnl7WVhVPnqL"
      },
      "source": [
        "### Strings\n",
        "\n",
        "String literals can be defined with any of single quotes ('), double quotes (\") or triple quotes (''' or \"\"\"). All give the same result with two important differences.\n",
        "\n",
        "If you quote with single quotes, you do not have to escape double quotes and vice-versa.\n",
        "If you quote with triple quotes, your string can span multiple lines."
      ]
    },
    {
      "cell_type": "code",
      "source": [
        "a = \"I like to work with python*&^###22\"\n",
        "print(type(a))"
      ],
      "metadata": {
        "id": "-wmmQN8EWIdS"
      },
      "execution_count": null,
      "outputs": []
    },
    {
      "cell_type": "code",
      "execution_count": null,
      "metadata": {
        "id": "TgfglwWoPnqL"
      },
      "outputs": [],
      "source": [
        "# string\n",
        "name1 = 'I love India'\n",
        "name = \"I'm\"   # name = 'I'm'\n",
        "print(type(name1))"
      ]
    },
    {
      "cell_type": "code",
      "source": [
        "# Single line comment\n",
        "\n",
        "\"\"\"\n",
        "this is a\n",
        "multiple line\n",
        "comment\n",
        "\"\"\""
      ],
      "metadata": {
        "id": "X7cyvujyWhf5"
      },
      "execution_count": null,
      "outputs": []
    },
    {
      "cell_type": "markdown",
      "metadata": {
        "id": "0wy5GYDNPnqN"
      },
      "source": [
        "### Variables\n",
        "\n",
        "#### Definining\n",
        "\n",
        "A variable in Python is defined through assignment. There is no concept of declaring a variable outside of that assignment."
      ]
    },
    {
      "cell_type": "code",
      "execution_count": null,
      "metadata": {
        "id": "93a9SvY-PnqN",
        "scrolled": true
      },
      "outputs": [],
      "source": [
        "a = 10\n",
        "t = 20\n",
        "# here a and t are variables.\n",
        "print(t)\n",
        "print(a)"
      ]
    },
    {
      "cell_type": "markdown",
      "metadata": {
        "id": "Xy1LJ6QJPnqO"
      },
      "source": [
        "#### Dynamic Typing\n",
        "\n",
        "In Python, while the value that a variable points to has a type, the variable itself has no strict type in its definition. You can re-use the same variable to point to an object of a different type. It may be helpful to think of variables as \"labels\" associated with objects."
      ]
    },
    {
      "cell_type": "code",
      "execution_count": null,
      "metadata": {
        "id": "-ap3EgTwPnqO"
      },
      "outputs": [],
      "source": [
        "t = 100\n",
        "t"
      ]
    },
    {
      "cell_type": "code",
      "execution_count": null,
      "metadata": {
        "id": "LaGCBMCtPnqO"
      },
      "outputs": [],
      "source": [
        "t = 'hi this is not 100'\n",
        "t"
      ]
    },
    {
      "cell_type": "code",
      "execution_count": null,
      "metadata": {
        "id": "Zz5kklJbZ3RT"
      },
      "outputs": [],
      "source": [
        "print(t, t, t)"
      ]
    },
    {
      "cell_type": "markdown",
      "metadata": {
        "id": "dW32knGtPnqP"
      },
      "source": [
        "#### Strong Typing\n",
        "\n",
        "While Python allows you to be very flexible with your types, you must still be aware of what those types are. Certain operations will require certain types as arguments."
      ]
    },
    {
      "cell_type": "code",
      "execution_count": null,
      "metadata": {
        "id": "NGSnc_5mXoaq"
      },
      "outputs": [],
      "source": [
        "'I am' + 5 + 'years old' # 'I am 5 years old'"
      ]
    },
    {
      "cell_type": "code",
      "source": [
        "a = 5\n",
        "type(a)"
      ],
      "metadata": {
        "id": "DNA4MKi1j-6e"
      },
      "execution_count": null,
      "outputs": []
    },
    {
      "cell_type": "code",
      "source": [
        "a = str(5)\n",
        "print(type(a))\n",
        "a"
      ],
      "metadata": {
        "id": "UZJ60XTVj-zO"
      },
      "execution_count": null,
      "outputs": []
    },
    {
      "cell_type": "code",
      "execution_count": null,
      "metadata": {
        "id": "-SDd5wZemOOm"
      },
      "outputs": [],
      "source": [
        "v = 'I am ' + str(5) + ' years old'   # Single line comment -> Converting int to str for number 5 -> 5 - '5'\n",
        "v"
      ]
    },
    {
      "cell_type": "code",
      "execution_count": null,
      "metadata": {
        "id": "vwyxa3PjjRYX"
      },
      "outputs": [],
      "source": [
        "b = 'hello'\n",
        "int(b) # converting string to integer"
      ]
    },
    {
      "cell_type": "code",
      "execution_count": null,
      "metadata": {
        "id": "6ljKXni4amqa"
      },
      "outputs": [],
      "source": [
        "b = '50'\n",
        "int(b)"
      ]
    },
    {
      "cell_type": "code",
      "execution_count": null,
      "metadata": {
        "id": "5gKAyVO7lwJN"
      },
      "outputs": [],
      "source": [
        "a = 4.2\n",
        "b = str(a)\n",
        "print(b, type(b))\n",
        "b"
      ]
    },
    {
      "cell_type": "code",
      "source": [
        "s1 = 'This is a single string quote'\n",
        "s2 = \"This is a single string quote\"\n",
        "s3 = '''This is a single string quote'''\n",
        "s3"
      ],
      "metadata": {
        "id": "5O0rQidAgMN_"
      },
      "execution_count": null,
      "outputs": []
    },
    {
      "cell_type": "markdown",
      "metadata": {
        "id": "DrtU5dgRs49R"
      },
      "source": [
        "# List"
      ]
    },
    {
      "cell_type": "markdown",
      "metadata": {
        "id": "bek6mcN3s49S"
      },
      "source": [
        "1. Ordered\n",
        "2. Mutable\n",
        "3. Dynamic\n",
        "4. Can contain any arbitrary objects.\n",
        "5. Can take any other types"
      ]
    },
    {
      "cell_type": "markdown",
      "metadata": {
        "id": "Dp9jyiE-s49S"
      },
      "source": [
        "To learn:\n",
        "1. List creation\n",
        "2. Size of list\n",
        "3. methods: append, extend, insert\n",
        "4. Accesing elements from list\n",
        "5. Removing elements from list: remove, pop\n",
        "6. Slicing\n",
        "7. List comprehension (Will again look into it during fuctions)"
      ]
    },
    {
      "cell_type": "code",
      "execution_count": null,
      "metadata": {
        "collapsed": true,
        "id": "_ZXE_dugs49T"
      },
      "outputs": [],
      "source": [
        "[] #empty list symbol   # [] -> list"
      ]
    },
    {
      "cell_type": "code",
      "execution_count": null,
      "metadata": {
        "id": "qtaIVfVKs49T"
      },
      "outputs": [],
      "source": [
        "a = []\n",
        "type(a)"
      ]
    },
    {
      "cell_type": "code",
      "source": [],
      "metadata": {
        "id": "t4mxobTYbLZT"
      },
      "execution_count": null,
      "outputs": []
    },
    {
      "cell_type": "code",
      "execution_count": null,
      "metadata": {
        "collapsed": true,
        "id": "_fV5HRc7s49T"
      },
      "outputs": [],
      "source": [
        "a = [10, 20, 30, 40, 50]\n",
        "print(a)"
      ]
    },
    {
      "cell_type": "code",
      "execution_count": null,
      "metadata": {
        "id": "oAuS-TUus49T"
      },
      "outputs": [],
      "source": [
        "print(len(a))"
      ]
    },
    {
      "cell_type": "code",
      "execution_count": null,
      "metadata": {
        "id": "yY3NbNsqs49U"
      },
      "outputs": [],
      "source": [
        "b = [1, 'Bangalore',4, 55, 6,'s']\n",
        "len(b)"
      ]
    },
    {
      "cell_type": "code",
      "source": [
        "min(b)"
      ],
      "metadata": {
        "id": "bfgt_VUNcKMx"
      },
      "execution_count": null,
      "outputs": []
    },
    {
      "cell_type": "code",
      "source": [
        "l = [10, 20, 40, 50, 30]\n",
        "min(l)"
      ],
      "metadata": {
        "id": "cmcBPjoH0-cz"
      },
      "execution_count": null,
      "outputs": []
    },
    {
      "cell_type": "code",
      "execution_count": null,
      "metadata": {
        "id": "-fyU4ucrbaPV"
      },
      "outputs": [],
      "source": [
        "max(l)"
      ]
    },
    {
      "cell_type": "code",
      "execution_count": null,
      "metadata": {
        "id": "CclVitiJcPTH"
      },
      "outputs": [],
      "source": [
        "l = [20, 40, 100, 30]"
      ]
    },
    {
      "cell_type": "code",
      "execution_count": null,
      "metadata": {
        "id": "FiISToZ9cSUx"
      },
      "outputs": [],
      "source": [
        "max(l)"
      ]
    },
    {
      "cell_type": "markdown",
      "metadata": {
        "id": "IbkXsC-wv3-W"
      },
      "source": [
        "## Slicing and indexing\n",
        "\n",
        "**Below image represents the index position of the list of string 'GEEKSFORGEEKS'. This is just an example.**"
      ]
    },
    {
      "cell_type": "markdown",
      "metadata": {
        "id": "1cP8EMb6vPhf"
      },
      "source": [
        "![slicing_indexing_image.JPG](data:image/jpeg;base64,/9j/4AAQSkZJRgABAQEAeAB4AAD/4RDoRXhpZgAATU0AKgAAAAgABAE7AAIAAAAKAAAISodpAAQAAAABAAAIVJydAAEAAAAUAAAQzOocAAcAAAgMAAAAPgAAAAAc6gAAAAgAAAAAAAAAAAAAAAAAAAAAAAAAAAAAAAAAAAAAAAAAAAAAAAAAAAAAAAAAAAAAAAAAAAAAAAAAAAAAAAAAAAAAAAAAAAAAAAAAAAAAAAAAAAAAAAAAAAAAAAAAAAAAAAAAAAAAAAAAAAAAAAAAAAAAAAAAAAAAAAAAAAAAAAAAAAAAAAAAAAAAAAAAAAAAAAAAAAAAAAAAAAAAAAAAAAAAAAAAAAAAAAAAAAAAAAAAAAAAAAAAAAAAAAAAAAAAAAAAAAAAAAAAAAAAAAAAAAAAAAAAAAAAAAAAAAAAAAAAAAAAAAAAAAAAAAAAAAAAAAAAAAAAAAAAAAAAAAAAAAAAAAAAAAAAAAAAAAAAAAAAAAAAAAAAAAAAAAAAAAAAAAAAAAAAAAAAAAAAAAAAAAAAAAAAAAAAAAAAAAAAAAAAAAAAAAAAAAAAAAAAAAAAAAAAAAAAAAAAAAAAAAAAAAAAAAAAAAAAAAAAAAAAAAAAAAAAAAAAAAAAAAAAAAAAAAAAAAAAAAAAAAAAAAAAAAAAAAAAAAAAAAAAAAAAAAAAAAAAAAAAAAAAAAAAAAAAAAAAAAAAAAAAAAAAAAAAAAAAAAAAAAAAAAAAAAAAAAAAAAAAAAAAAAAAAAAAAAAAAAAAAAAAAAAAAAAAAAAAAAAAAAAAAAAAAAAAAAAAAAAAAAAAAAAAAAAAAAAAAAAAAAAAAAAAAAAAAAAAAAAAAAAAAAAAAAAAAAAAAAAAAAAAAAAAAAAAAAAAAAAAAAAAAAAAAAAAAAAAAAAAAAAAAAAAAAAAAAAAAAAAAAAAAAAAAAAAAAAAAAAAAAAAAAAAAAAAAAAAAAAAAAAAAAAAAAAAAAAAAAAAAAAAAAAAAAAAAAAAAAAAAAAAAAAAAAAAAAAAAAAAAAAAAAAAAAAAAAAAAAAAAAAAAAAAAAAAAAAAAAAAAAAAAAAAAAAAAAAAAAAAAAAAAAAAAAAAAAAAAAAAAAAAAAAAAAAAAAAAAAAAAAAAAAAAAAAAAAAAAAAAAAAAAAAAAAAAAAAAAAAAAAAAAAAAAAAAAAAAAAAAAAAAAAAAAAAAAAAAAAAAAAAAAAAAAAAAAAAAAAAAAAAAAAAAAAAAAAAAAAAAAAAAAAAAAAAAAAAAAAAAAAAAAAAAAAAAAAAAAAAAAAAAAAAAAAAAAAAAAAAAAAAAAAAAAAAAAAAAAAAAAAAAAAAAAAAAAAAAAAAAAAAAAAAAAAAAAAAAAAAAAAAAAAAAAAAAAAAAAAAAAAAAAAAAAAAAAAAAAAAAAAAAAAAAAAAAAAAAAAAAAAAAAAAAAAAAAAAAAAAAAAAAAAAAAAAAAAAAAAAAAAAAAAAAAAAAAAAAAAAAAAAAAAAAAAAAAAAAAAAAAAAAAAAAAAAAAAAAAAAAAAAAAAAAAAAAAAAAAAAAAAAAAAAAAAAAAAAAAAAAAAAAAAAAAAAAAAAAAAAAAAAAAAAAAAAAAAAAAAAAAAAAAAAAAAAAAAAAAAAAAAAAAAAAAAAAAAAAAAAAAAAAAAAAAAAAAAAAAAAAAAAAAAAAAAAAAAAAAAAAAAAAAAAAAAAAAAAAAAAAAAAAAAAAAAAAAAAAAAAAAAAAAAAAAAAAAAAAAAAAAAAAAAAAAAAAAAAAAAAAAAAAAAAAAAAAAAAAAAAAAAAAAAAAAAAAAAAAAAAAAAAAAAAAAAAAAAAAAAAAAAAAAAAAAAAAAAAAAAAAAAAAAAAAAAAAAAAAAAAAAAAAAAAAAAAAAAAAAAAAAAAAAAAAAAAAAAAAAAAAAAAAAAAAAAAAAAAAAAAAAAAAAAAAAAAAAAAAAAAAAAAAAAAAAAAAAAAAAAAAAAAAAAAAAAAAAAAAAAAAAAAAAAAAAAAAAAAAAAAAAAAAAAAAAAAAAAAAAAAAAAAAAAAAAAAAAAAAAAAAAAAAAAAAAAAAAAAAAAAAAAAAAAAAAAAAAAAAAAAAAAAAAAAAAAAAAAAAAAAAAAAAAAAAAAAAAAAAAAAAAAAAAAAAAAAAAAAAAAAAAAAAAAAAAAAAAAAAAAAAAAAAAAAAAAAAAAAAAAAAAAAAAAAAAAAAAAAAAAAAAAAAAAAAAAAAAAAAAAAAAAAAAAAAAAAAAAAAAAAAAAAAAAAAAAAAAAAAAAAAAAAAAAAAAAAAAAAAAAAAAAAAAAAAAAAAAAAAAAAAAAAAAAAAAAAAAAAAAAAAAAAAAAAAAAAAAAAAAAAAAAAAAAAAAAAAAAAAAAAAAAAAAAAAAAAAAAAAAAAAAAAAAAAAAAAAAAAAAAAAAAAAAAAAAAAAAAAAAAAAAAAAAAAAAAAAAAAAAAAAAAAAAAAAAAAAAAAAAAAAAAAAAAAAAAAAAAAAAAAAAAAAAAAAAAAAAAAAAAAAAAAAAAAAAAAAAAAAAAAAAAAAAAAAAAAAAAAAAAAAAAAAAAAAAAAAAAAAAAAAAAAAAAAAAAAAAAAAAAAAAAAAAAAAAAAAAAAAAAAAAAAAAAAAAAAAAAAAAAAAAAAAAAAAAAAAAAAAAAAAAAAAAAAAAAAAAAAAAAAAAAAAAAAAAAAAAAAAAAAAAAAAAAAAAAAAAAAAAAAAAAAAAAAAAAAAAAAAAAAAAAAAAAAAAAAAAAAAAAAAAAAAAAAAAAAAAAAAAAAAAAAAAAAAAAAAAAAAAAAAAAAAAAAAAAAAAAAAAAAAAAAAAAAAAAAAAAAAAAAAAAAAAAAAAAAAAAAAAAAAAAAAAAAAAAAAAAAAAHNoYXJhdCBycAAABZADAAIAAAAUAAAQopAEAAIAAAAUAAAQtpKRAAIAAAADNzUAAJKSAAIAAAADNzUAAOocAAcAAAgMAAAIlgAAAAAc6gAAAAgAAAAAAAAAAAAAAAAAAAAAAAAAAAAAAAAAAAAAAAAAAAAAAAAAAAAAAAAAAAAAAAAAAAAAAAAAAAAAAAAAAAAAAAAAAAAAAAAAAAAAAAAAAAAAAAAAAAAAAAAAAAAAAAAAAAAAAAAAAAAAAAAAAAAAAAAAAAAAAAAAAAAAAAAAAAAAAAAAAAAAAAAAAAAAAAAAAAAAAAAAAAAAAAAAAAAAAAAAAAAAAAAAAAAAAAAAAAAAAAAAAAAAAAAAAAAAAAAAAAAAAAAAAAAAAAAAAAAAAAAAAAAAAAAAAAAAAAAAAAAAAAAAAAAAAAAAAAAAAAAAAAAAAAAAAAAAAAAAAAAAAAAAAAAAAAAAAAAAAAAAAAAAAAAAAAAAAAAAAAAAAAAAAAAAAAAAAAAAAAAAAAAAAAAAAAAAAAAAAAAAAAAAAAAAAAAAAAAAAAAAAAAAAAAAAAAAAAAAAAAAAAAAAAAAAAAAAAAAAAAAAAAAAAAAAAAAAAAAAAAAAAAAAAAAAAAAAAAAAAAAAAAAAAAAAAAAAAAAAAAAAAAAAAAAAAAAAAAAAAAAAAAAAAAAAAAAAAAAAAAAAAAAAAAAAAAAAAAAAAAAAAAAAAAAAAAAAAAAAAAAAAAAAAAAAAAAAAAAAAAAAAAAAAAAAAAAAAAAAAAAAAAAAAAAAAAAAAAAAAAAAAAAAAAAAAAAAAAAAAAAAAAAAAAAAAAAAAAAAAAAAAAAAAAAAAAAAAAAAAAAAAAAAAAAAAAAAAAAAAAAAAAAAAAAAAAAAAAAAAAAAAAAAAAAAAAAAAAAAAAAAAAAAAAAAAAAAAAAAAAAAAAAAAAAAAAAAAAAAAAAAAAAAAAAAAAAAAAAAAAAAAAAAAAAAAAAAAAAAAAAAAAAAAAAAAAAAAAAAAAAAAAAAAAAAAAAAAAAAAAAAAAAAAAAAAAAAAAAAAAAAAAAAAAAAAAAAAAAAAAAAAAAAAAAAAAAAAAAAAAAAAAAAAAAAAAAAAAAAAAAAAAAAAAAAAAAAAAAAAAAAAAAAAAAAAAAAAAAAAAAAAAAAAAAAAAAAAAAAAAAAAAAAAAAAAAAAAAAAAAAAAAAAAAAAAAAAAAAAAAAAAAAAAAAAAAAAAAAAAAAAAAAAAAAAAAAAAAAAAAAAAAAAAAAAAAAAAAAAAAAAAAAAAAAAAAAAAAAAAAAAAAAAAAAAAAAAAAAAAAAAAAAAAAAAAAAAAAAAAAAAAAAAAAAAAAAAAAAAAAAAAAAAAAAAAAAAAAAAAAAAAAAAAAAAAAAAAAAAAAAAAAAAAAAAAAAAAAAAAAAAAAAAAAAAAAAAAAAAAAAAAAAAAAAAAAAAAAAAAAAAAAAAAAAAAAAAAAAAAAAAAAAAAAAAAAAAAAAAAAAAAAAAAAAAAAAAAAAAAAAAAAAAAAAAAAAAAAAAAAAAAAAAAAAAAAAAAAAAAAAAAAAAAAAAAAAAAAAAAAAAAAAAAAAAAAAAAAAAAAAAAAAAAAAAAAAAAAAAAAAAAAAAAAAAAAAAAAAAAAAAAAAAAAAAAAAAAAAAAAAAAAAAAAAAAAAAAAAAAAAAAAAAAAAAAAAAAAAAAAAAAAAAAAAAAAAAAAAAAAAAAAAAAAAAAAAAAAAAAAAAAAAAAAAAAAAAAAAAAAAAAAAAAAAAAAAAAAAAAAAAAAAAAAAAAAAAAAAAAAAAAAAAAAAAAAAAAAAAAAAAAAAAAAAAAAAAAAAAAAAAAAAAAAAAAAAAAAAAAAAAAAAAAAAAAAAAAAAAAAAAAAAAAAAAAAAAAAAAAAAAAAAAAAAAAAAAAAAAAAAAAAAAAAAAAAAAAAAAAAAAAAAAAAAAAAAAAAAAAAAAAAAAAAAAAAAAAAAAAAAAAAAAAAAAAAAAAAAAAAAAAAAAAAAAAAAAAAAAAAAAAAAAAAAAAAAAAAAAAAAAAAAAAAAAAAAAAAAAAAAAAAAAAAAAAAAAAAAAAAAAAAAAAAAAAAAAAAAAAAAAAAAAAAAAAAAAAAAAAAAAAAAAAAAAAAAAAAAAAAAAAAAAAAAAAAAAAAAAAAAAAAAAAAAAAAAAAAAAAAAAAAAAAAAAAAAAAAAAAAAAAAAAAAAAAAAAAAAAAAAAAAAAAAAAAAAAAAAAAAAAAAAAAAAAAAAAAAAAAAAAAAAAAAAAAAAAAAAAAAAAAAAAAAAAAAAAAAAAAAAAAAAAAAAAAAAAAAAAAAAAAAAAAAAAAAAAAAAAAAAAAAAAAAAAAAAAAAAAAAAAAAAAAAAAAAAAAAAAAAAAAAAAAAAAAAAAAAAAAAAAAAAAAAAAAAAAAAAAAAAAAAAAAAAAAAAAAAAAAAAAAAAAAAAAAAAAAAAAAAAAAAAAAAAAAAAAAAAAAAAAAAAAAAAAAAAAAAAAAAAAAAAAAAAAAAAAAAAAAAAAAAAAAAAAAAAAAAAAAAAAAAAAAAAAAAAAAAAAAAAAAAAAAAAAAAAAAAAAAAAAAAAAAAAAAAAAAAAAAAAAAAAAAAAAAAAAAAAAAAAAAAAAAAAAAAAAAAAAAAAAAAAAAAAAAAAAAAAAAAAAAAAAAAAAAAAAAAAAAAAAAAAAAAAAAAAAAAAAAAAAAAAAAAAAAAAAAAAAAAAAAAAAAAAAAAAAAAAAAAAAAAAAAAAAAAAAAAAAAAAAAAAAAAAAAAAAAAAAAAAAAAAAAAAAAAAAAAAAAAAAAAAAAAAAAAAAAAAAAAAAAAAAAAAAAAAAAAAAAAAAAAAAAAAAAAAAAAAADIwMjM6MDc6MjggMTg6MjI6MjYAMjAyMzowNzoyOCAxODoyMjoyNgAAAHMAaABhAHIAYQB0ACAAcgBwAAAA/+ELHGh0dHA6Ly9ucy5hZG9iZS5jb20veGFwLzEuMC8APD94cGFja2V0IGJlZ2luPSfvu78nIGlkPSdXNU0wTXBDZWhpSHpyZVN6TlRjemtjOWQnPz4NCjx4OnhtcG1ldGEgeG1sbnM6eD0iYWRvYmU6bnM6bWV0YS8iPjxyZGY6UkRGIHhtbG5zOnJkZj0iaHR0cDovL3d3dy53My5vcmcvMTk5OS8wMi8yMi1yZGYtc3ludGF4LW5zIyI+PHJkZjpEZXNjcmlwdGlvbiByZGY6YWJvdXQ9InV1aWQ6ZmFmNWJkZDUtYmEzZC0xMWRhLWFkMzEtZDMzZDc1MTgyZjFiIiB4bWxuczpkYz0iaHR0cDovL3B1cmwub3JnL2RjL2VsZW1lbnRzLzEuMS8iLz48cmRmOkRlc2NyaXB0aW9uIHJkZjphYm91dD0idXVpZDpmYWY1YmRkNS1iYTNkLTExZGEtYWQzMS1kMzNkNzUxODJmMWIiIHhtbG5zOnhtcD0iaHR0cDovL25zLmFkb2JlLmNvbS94YXAvMS4wLyI+PHhtcDpDcmVhdGVEYXRlPjIwMjMtMDctMjhUMTg6MjI6MjYuNzUyPC94bXA6Q3JlYXRlRGF0ZT48L3JkZjpEZXNjcmlwdGlvbj48cmRmOkRlc2NyaXB0aW9uIHJkZjphYm91dD0idXVpZDpmYWY1YmRkNS1iYTNkLTExZGEtYWQzMS1kMzNkNzUxODJmMWIiIHhtbG5zOmRjPSJodHRwOi8vcHVybC5vcmcvZGMvZWxlbWVudHMvMS4xLyI+PGRjOmNyZWF0b3I+PHJkZjpTZXEgeG1sbnM6cmRmPSJodHRwOi8vd3d3LnczLm9yZy8xOTk5LzAyLzIyLXJkZi1zeW50YXgtbnMjIj48cmRmOmxpPnNoYXJhdCBycDwvcmRmOmxpPjwvcmRmOlNlcT4NCgkJCTwvZGM6Y3JlYXRvcj48L3JkZjpEZXNjcmlwdGlvbj48L3JkZjpSREY+PC94OnhtcG1ldGE+DQogICAgICAgICAgICAgICAgICAgICAgICAgICAgICAgICAgICAgICAgICAgICAgICAgICAgICAgICAgICAgICAgICAgICAgICAgICAgICAgICAgICAgICAgICAgICAgICAgICAgCiAgICAgICAgICAgICAgICAgICAgICAgICAgICAgICAgICAgICAgICAgICAgICAgICAgICAgICAgICAgICAgICAgICAgICAgICAgICAgICAgICAgICAgICAgICAgICAgICAgICAKICAgICAgICAgICAgICAgICAgICAgICAgICAgICAgICAgICAgICAgICAgICAgICAgICAgICAgICAgICAgICAgICAgICAgICAgICAgICAgICAgICAgICAgICAgICAgICAgICAgIAogICAgICAgICAgICAgICAgICAgICAgICAgICAgICAgICAgICAgICAgICAgICAgICAgICAgICAgICAgICAgICAgICAgICAgICAgICAgICAgICAgICAgICAgICAgICAgICAgICAgCiAgICAgICAgICAgICAgICAgICAgICAgICAgICAgICAgICAgICAgICAgICAgICAgICAgICAgICAgICAgICAgICAgICAgICAgICAgICAgICAgICAgICAgICAgICAgICAgICAgICAKICAgICAgICAgICAgICAgICAgICAgICAgICAgICAgICAgICAgICAgICAgICAgICAgICAgICAgICAgICAgICAgICAgICAgICAgICAgICAgICAgICAgICAgICAgICAgICAgICAgIAogICAgICAgICAgICAgICAgICAgICAgICAgICAgICAgICAgICAgICAgICAgICAgICAgICAgICAgICAgICAgICAgICAgICAgICAgICAgICAgICAgICAgICAgICAgICAgICAgICAgCiAgICAgICAgICAgICAgICAgICAgICAgICAgICAgICAgICAgICAgICAgICAgICAgICAgICAgICAgICAgICAgICAgICAgICAgICAgICAgICAgICAgICAgICAgICAgICAgICAgICAKICAgICAgICAgICAgICAgICAgICAgICAgICAgICAgICAgICAgICAgICAgICAgICAgICAgICAgICAgICAgICAgICAgICAgICAgICAgICAgICAgICAgICAgICAgICAgICAgICAgIAogICAgICAgICAgICAgICAgICAgICAgICAgICAgICAgICAgICAgICAgICAgICAgICAgICAgICAgICAgICAgICAgICAgICAgICAgICAgICAgICAgICAgICAgICAgICAgICAgICAgCiAgICAgICAgICAgICAgICAgICAgICAgICAgICAgICAgICAgICAgICAgICAgICAgICAgICAgICAgICAgICAgICAgICAgICAgICAgICAgICAgICAgICAgICAgICAgICAgICAgICAKICAgICAgICAgICAgICAgICAgICAgICAgICAgICAgICAgICAgICAgICAgICAgICAgICAgICAgICAgICAgICAgICAgICAgICAgICAgICAgICAgICAgICAgICAgICAgICAgICAgIAogICAgICAgICAgICAgICAgICAgICAgICAgICAgICAgICAgICAgICAgICAgICAgICAgICAgICAgICAgICAgICAgICAgICAgICAgICAgICAgICAgICAgICAgICAgICAgICAgICAgCiAgICAgICAgICAgICAgICAgICAgICAgICAgICAgICAgICAgICAgICAgICAgICAgICAgICAgICAgICAgICAgICAgICAgICAgICAgICAgICAgICAgICAgICAgICAgICAgICAgICAKICAgICAgICAgICAgICAgICAgICAgICAgICAgICAgICAgICAgICAgICAgICAgICAgICAgICAgICAgICAgICAgICAgICAgICAgICAgICAgICAgICAgICAgICAgICAgICAgICAgIAogICAgICAgICAgICAgICAgICAgICAgICAgICAgICAgICAgICAgICAgICAgICAgICAgICAgICAgICAgICAgICAgICAgICAgICAgICAgICAgICAgICAgICAgICAgICAgICAgICAgCiAgICAgICAgICAgICAgICAgICAgICAgICAgICAgICAgICAgICAgICAgICAgICAgICAgICAgICAgICAgICAgICAgICAgICAgICAgICAgICAgICAgICAgICAgICAgICAgICAgICAKICAgICAgICAgICAgICAgICAgICAgICAgICAgICAgICAgICAgICAgICAgICAgICAgICAgICAgICAgICAgICAgICAgICAgICAgICAgICAgICAgICAgICAgICAgICAgICAgICAgIAogICAgICAgICAgICAgICAgICAgICAgICAgICAgICAgICAgICAgICAgICAgICAgICAgICAgICAgICAgICAgICAgICAgICAgICAgICAgICAgICAgICAgICAgICAgICAgICAgICAgCiAgICAgICAgICAgICAgICAgICAgICAgICAgICAgICAgICAgICAgICAgICAgICAgICAgICAgICAgICAgICAgICAgICAgICAgICAgICAgICAgICAgICAgICAgICAgICAgICAgICAKICAgICAgICAgICAgICAgICAgICAgICAgICAgIDw/eHBhY2tldCBlbmQ9J3cnPz7/2wBDAAcFBQYFBAcGBQYIBwcIChELCgkJChUPEAwRGBUaGRgVGBcbHichGx0lHRcYIi4iJSgpKywrGiAvMy8qMicqKyr/2wBDAQcICAoJChQLCxQqHBgcKioqKioqKioqKioqKioqKioqKioqKioqKioqKioqKioqKioqKioqKioqKioqKioqKir/wAARCAFaA1sDASIAAhEBAxEB/8QAHwAAAQUBAQEBAQEAAAAAAAAAAAECAwQFBgcICQoL/8QAtRAAAgEDAwIEAwUFBAQAAAF9AQIDAAQRBRIhMUEGE1FhByJxFDKBkaEII0KxwRVS0fAkM2JyggkKFhcYGRolJicoKSo0NTY3ODk6Q0RFRkdISUpTVFVWV1hZWmNkZWZnaGlqc3R1dnd4eXqDhIWGh4iJipKTlJWWl5iZmqKjpKWmp6ipqrKztLW2t7i5usLDxMXGx8jJytLT1NXW19jZ2uHi4+Tl5ufo6erx8vP09fb3+Pn6/8QAHwEAAwEBAQEBAQEBAQAAAAAAAAECAwQFBgcICQoL/8QAtREAAgECBAQDBAcFBAQAAQJ3AAECAxEEBSExBhJBUQdhcRMiMoEIFEKRobHBCSMzUvAVYnLRChYkNOEl8RcYGRomJygpKjU2Nzg5OkNERUZHSElKU1RVVldYWVpjZGVmZ2hpanN0dXZ3eHl6goOEhYaHiImKkpOUlZaXmJmaoqOkpaanqKmqsrO0tba3uLm6wsPExcbHyMnK0tPU1dbX2Nna4uPk5ebn6Onq8vP09fb3+Pn6/9oADAMBAAIRAxEAPwD6RooooAKKKKACiiigAooooAKKKKACiiigAooooAKKKKACiiigAooooAKKKKACiiigAooooAKKKKACiiigAooooAKKKKACiiigAooooAKKKKACiiigAooooAKKKKACiiigAooooAKKKKACiiigAooooAKKKKACiiigAooooAKKKKACiiigAooooAKKKKACiiigAooooAKKKKACiiigAooooAKKKKACiiigAooooAKKKKACiiigAooooAKKKKACiiigAooooAKKKKACiiigAooooAKKKKACiiigAooooAKKKKACiiigAooooAKKKKACiiigAooooAKKKKACiiigAooooAKKKKACiiigAooooAKKKKACiiigAooooAKKKKACiiigAooooAKKKKACiiigAooooAKKKKACiiigAooooAKKKKACiiigAooooAKKKKACiiigAooooAKKKKACiiigAooooAKKKKACiiigAooooAKKKKACiiigAooooAKKKKACiiigAooooAKKKKACiiigAooooAKKKKACiiigAooooAKKKKACiiigAooooAKKKKACiiigAooooAKKKKACiiigAooooAKKKKACiiigAooooAKKKKACiiigAooooAKKKKACiiigAooooAKKKKACiiigAooooAKKKKACiiigAooooAKKKKACiiigAooooAKKKKACiiigAooooAKKKKACiiigAooooAKKKKACiiigAooooAKKKKACiiigAooooAKKKKACiiigAooooAKKKKACiiigAooooAKKKKACiiigAooooAKKKKACiiigAooooAKKKKACiiigAooooAKKKKACiiigAooooAKKKKACiiigAooooAKKKKACiiigAooooAKKKKACiiigAooooAKKKKACiiigAooooAKKKKACiiigAooooAKKKKACiiigAooooAKKKKACiiigAooooAKKKKACiiigAooooAKKKKACiiigAooooAKKKKACiiigAooooAKKKKACiiigAooooAKKKKACiiigAooooAKKKKACiiigAooooAKKKKACiiigAooooAKKKKACiiigAooooAKKKKACiiigAooooAKKKKACiiigAooooAKKKKACiiigAooooAKKKKACiiigAooooAKKKKACiuZsrnxDqv2ma2u7GCGO5lhRHgZjhGIyTu9qtfZvE/8A0EtP/wDAVv8A4qgDcorD+zeJ/wDoJaf/AOArf/FUfZvE/wD0EtP/APAVv/iqANyisP7N4n/6CWn/APgK3/xVH2bxP/0EtP8A/AVv/iqANyiuV0248T6g94v27T0+y3LQf8ezHdjHP3ver32bxP8A9BLT/wDwFb/4qgDcorD+zeJ/+glp/wD4Ct/8VR9m8T/9BLT/APwFb/4qgDcorD+zeJ/+glp//gK3/wAVR9m8T/8AQS0//wABW/8AiqANyiuVsbjxPeX9/b/btOX7JIqbvszfNlQf73vV77N4n/6CWn/+Arf/ABVAG5RWH9m8T/8AQS0//wABW/8AiqPs3if/AKCWn/8AgK3/AMVQBuUVh/ZvE/8A0EtP/wDAVv8A4qj7N4n/AOglp/8A4Ct/8VQBuUVyttceJ7jWb6x+3acv2VIm3/Zm+bfu/wBrttq99m8T/wDQS0//AMBW/wDiqANyisP7N4n/AOglp/8A4Ct/8VR9m8T/APQS0/8A8BW/+KoA3KKw/s3if/oJaf8A+Arf/FUfZvE//QS0/wD8BW/+KoA3KK5WO48Tya/cab9u08eTbRz7/szc72cYxu/2P1q99m8T/wDQS0//AMBW/wDiqANyisP7N4n/AOglp/8A4Ct/8VR9m8T/APQS0/8A8BW/+KoA3KKw/s3if/oJaf8A+Arf/FUfZvE//QS0/wD8BW/+KoA3KK5W5uPE9vrVjYfbtPP2pJW3/Zm+XZt/2u+6r32bxP8A9BLT/wDwFb/4qgDcorD+zeJ/+glp/wD4Ct/8VR9m8T/9BLT/APwFb/4qgDcorD+zeJ/+glp//gK3/wAVR9m8T/8AQS0//wABW/8AiqANyiuUvrnxPZ6nptp9t05vt0rx7vszfJtjZ8/e/wBnFX/s3if/AKCWn/8AgK3/AMVQBuUVh/ZvE/8A0EtP/wDAVv8A4qj7N4n/AOglp/8A4Ct/8VQBuUVh/ZvE/wD0EtP/APAVv/iqPs3if/oJaf8A+Arf/FUAblFcpqNz4nsLvTIftunP9uujb5+zMNn7qSTP3v8Apnj8av8A2bxP/wBBLT//AAFb/wCKoA3KKw/s3if/AKCWn/8AgK3/AMVR9m8T/wDQS0//AMBW/wDiqANyisP7N4n/AOglp/8A4Ct/8VR9m8T/APQS0/8A8BW/+KoA3KK5XVLjxPpwtP8ATtOf7TdR2/8Ax7MNu7PP3var32bxP/0EtP8A/AVv/iqANyisP7N4n/6CWn/+Arf/ABVH2bxP/wBBLT//AAFb/wCKoA3KKw/s3if/AKCWn/8AgK3/AMVR9m8T/wDQS0//AMBW/wDiqANyiuV1e48T6XZJP9u0+TdPFDj7Mw++4XP3u2avfZvE/wD0EtP/APAVv/iqANyisP7N4n/6CWn/APgK3/xVH2bxP/0EtP8A/AVv/iqANyisP7N4n/6CWn/+Arf/ABVH2bxP/wBBLT//AAFb/wCKoA3KK5XWJ/E+laVLefbtPk8sqNv2ZhnLBf73vV4W3icgf8THT/8AwFb/AOKoA3KKw/s3if8A6CWn/wDgK3/xVH2bxP8A9BLT/wDwFb/4qgDcorD+zeJ/+glp/wD4Ct/8VR9m8T/9BLT/APwFb/4qgDcornrpPE9tZzT/ANoae3lRs+Psrc4Gf71R6cfE9/ptvd/b9PTzo1fb9mY4yM/3qAOlorD+zeJ/+glp/wD4Ct/8VR9m8T/9BLT/APwFb/4qgDcorD+zeJ/+glp//gK3/wAVR9m8T/8AQS0//wABW/8AiqANyisF4PE6Rs39o6ecAn/j1b/4qqmkTeJ9U0i3vft2nx+cu7b9mY45/wB6gDqaKw/s3if/AKCWn/8AgK3/AMVR9m8T/wDQS0//AMBW/wDiqANyisP7N4n/AOglp/8A4Ct/8VR9m8T/APQS0/8A8BW/+KoA3KKw/s3if/oJaf8A+Arf/FVS0ifxPqmmrdfbtPj3O67fszH7rlf73tQB1NFYf2bxP/0EtP8A/AVv/iqPs3if/oJaf/4Ct/8AFUAblFYf2bxP/wBBLT//AAFb/wCKo+zeJ/8AoJaf/wCArf8AxVAG5RWH9m8T/wDQS0//AMBW/wDiqo6TceJ9Tt5pPt2nx+VcSQ4+zMc7Wxn71AHVUVh/ZvE//QS0/wD8BW/+Ko+zeJ/+glp//gK3/wAVQBuUVh/ZvE//AEEtP/8AAVv/AIqj7N4n/wCglp//AICt/wDFUAblFYf2bxP/ANBLT/8AwFb/AOKqjptx4n1CW/T7dp6fZLprf/j2Y7sKrZ+9/tUAdVRWH9m8T/8AQS0//wABW/8AiqPs3if/AKCWn/8AgK3/AMVQBuUVh/ZvE/8A0EtP/wDAVv8A4qj7N4n/AOglp/8A4Ct/8VQBuUVh/ZvE/wD0EtP/APAVv/iqf4fvr+5uNVtdUeGSWxu1hV4UKhlMMcnQk8/vCPwoA2aKKKACiiigAooooAKKKKACiiigDD8K/wDIPvP+whcf+jDUVx4iu59TnstDsPtjW3E0rvtRW/u57mpfCv8AyD7z/sIXH/ow1gRTxaLcarp2sTXNilzcm4hu4QfmB7bh3rObascOLqyp8tnZPd/LTfRXOv0y6ubq0331obWYMVaMtn8QauVzvgqe4uNFke5mnnHnuIpJ87mTPB5roqqLvFM3w8/aUoz7oKKKKo3MPw3/AK7Wf+wjJ/Ja0bvVbCwkSO9u4YHf7qu4BNZ3hv8A12s/9hGT+S1yurxmPxTqq6ldQ2sdyirG89sZQyY5CntWc5OK0OPF4iVCCcVu7HoqsGUMpBBGQR3paztAt1tdAs4UmadUjAWRhgsPpWjVrVHTCTlFSfUKKKKZZh6H/wAh3Xv+vlP/AEWK0rzVLHTtv267igL/AHRIwGazdD/5Duvf9fKf+ixXOa+rQ+MrmS+uIbeCa2VYpLi2MqkdwPQ1E5cqucmLryoQUord2O+R1kRXjYMrDIYHIIpayPC9sln4btIYbhriNVOyRlK5GT2Na9UndXN6cnOCk1ugooopmhh6b/yOOt/9cbb+UlSy6u8XihdOcItv9lM7OeoIOPyqLTf+Rx1v/rjbfykrmvGtjeXniZPsas6JZ7polOPOQPyuazqScVdHFjas6NNTgru6O9t7iG7gWa2kWWJvuupyDUlUdFurW80e2m0+Py4CmFj242Y4xj2q9VrVXOqEuaCl3CiiimWYdt/yP2of9g62/wDRk1ad7qNnpyK99cxwKxwDI2M1mW3/ACP2of8AYOtv/Rk1ZfjQ28N5a3f2pIbuCNzHHNCZI5Qeq/WonLljc5sTVdGk5o66ORJY1kjYMjDKsDkEU6qWjzPcaLaSyW4tmeJSYQMBOOmKu1S1RvCXNFS7hRRRTKMPUv8AkdNE/wCuN1/JK3Kw9S/5HTRP+uN1/JK3KACiiigAooooAwtb/wCRl8N/9fU3/pPJS+KfEA0HTkeNoftM0ixxrK2AMnlj7Ck1v/kZfDf/AF9Tf+k8lV/G9uk2n2BaJZCL+EcrnAyc/hUTbUXY5cXKcaEnB2ZuadLLPp8Us8kUjsuS8P3T9Ks0iIsaBI1CqowFUYApatHRFNJJhRRRQUYXiL/kLeGv+wof/SW4rbkkSGNpJXVEUZZmOABWJ4i/5C3hr/sKH/0luKr+OopZfD6bEeSFLiN7hEGS0Ybnipk7K5jXqOlSlNK9kbdnqdjqO77DdRT7fveWwOKtVxmmPZX3je3utBh2WsVqyTukZRSTjaOnJrs6UJcyIw1Z1Ytu2jtdbP0CiiirOkw/E/3dI/7CkH8zWxPcRWsDTXEixRr952OAKx/E/wB3SP8AsKQfzNR+OUMngu/QAtuCDA/31qZOybMq1R06UpromzYtL+1vlc2dxHOEbaxRs4PpViqmmWNtYWEUVnBHCuxchFAzx39at01e2pUOZxXNuFFFFMsw/Fv/ACBof+v61/8AR6VuVh+Lf+QND/1/Wv8A6PStygAooooAKKKKAMTxh/yK11/vRf8Aoxa2HkSGBpJDtRF3MT2FY/jD/kVrr/ei/wDRi1f1S2e90W6tojh5YWRT7kUnsTJtRbW5iQ+JdV1GI3Wk6MZrPJCPJKFaQDuBXSQu0kCO6GNmUEoeqn0rzqfVY4/CsVlNdX2mapYxGJYIgy+Yw6Hgciu90ppW0i0a43GUwoX3dc45zWVOV3uedg67qSacruyfTTy7r0ZbooorY9Mq6p/yB7z/AK4P/wCgmoPD3/It6d/17J/6CKn1T/kD3n/XB/8A0E1S0hXbwdarD/rDZqF+u3igTdlctx6vp8t6bSO9ha4HWMOM1cry/RbaOaLT7W6v47e6guA5hFoRLvB5y/fNeoVnTm5K7OLB4mWIi5SVgooorQ7hk3+ok/3T/Ksnwj/yKen/APXL+prWm/1En+6f5Vj+Fgx8G2QT73knH1yaAL/9r6f9u+x/bIftOceVvG7NXK8rsrRZbdbHUb+O1ulu95j+yEzFt3B39816oOgrOnNy3OHB4meITclb+tmFFFFaHcFYnhH/AJFuP/rtP/6NetusTwl/yLcf/Xaf/wBGvQAaTr63Nvcy6g8VuI7trdCTjdg8fjW3XmOmxPY+IzqOpxNPp322SNAQSIJCeHx3z0zXpwOQCOlZU5OS1PPwNedaD5919/r/AJBRRRWp6AVh+FP+PC9/7CFx/wCjDW5WH4U/48L3/sIXH/ow0AaL6rYR3y2T3cK3LdIi43H8Kt1wUk8Vh4zIsGjvGurxRPbywEvCehdWx0HWu9qIS5rnJhq7rOSfR2CiiirOsKw/Df8Ax867/wBhR/8A0XHW5WH4b/4+dd/7Cj/+i46AJ5tVlj8U2+mCNTFLbtKX7gg4rVrCuET/AITqzcv84tHAXaeckd63amN9Tnoyk3O76/ogoooqjoCsLQf+Q/4n/wCwjH/6SQVu1haD/wAh/wAT/wDYRj/9JIKAN2iiigAooooAKKKKACiiigAooooAw/Cv/IPvP+whcf8Aow1tsoYYYA/UViP4Q0tppZUk1OEzSNI6watdRJuJySFWQAc+gpP+EQ03/n61n/weXn/x2gDdAx04orC/4RDTf+frWf8AweXn/wAdo/4RDTf+frWf/B5ef/HaAN2isL/hENN/5+tZ/wDB5ef/AB2j/hENN/5+tZ/8Hl5/8doAXw3/AK7Wf+wjJ/Ja22VW+8oP1Fc/F4I0iAuYZdXjMjF3261eDcx6k/vetSf8Ihpv/P1rP/g8vP8A47QBu0Vhf8Ihpv8Az9az/wCDy8/+O0f8Ihpv/P1rP/g8vP8A47QBu0Vhf8Ihpv8Az9az/wCDy8/+O0f8Ihpv/P1rP/g8vP8A47QAuh/8h3Xv+vlP/RYrbZVb7yg/UVz8fgjSIpJJIpdXR5TukZdavAXOMZP73mpP+EQ03/n61n/weXn/AMdoA3elFYX/AAiGm/8AP1rP/g8vP/jtH/CIab/z9az/AODy8/8AjtAG7RWF/wAIhpv/AD9az/4PLz/47R/wiGm/8/Ws/wDg8vP/AI7QAum/8jjrf/XG2/lJW5jnNc8ngjSEnkmSXV1lkADuNavMsBnGT5vOMn86k/4RDTf+frWf/B5ef/HaAN0ADoMUVhf8Ihpv/P1rP/g8vP8A47R/wiGm/wDP1rP/AIPLz/47QBu0Vhf8Ihpv/P1rP/g8vP8A47R/wiGm/wDP1rP/AIPLz/47QAtt/wAj9qH/AGDrb/0ZNW2VVvvKDj1Fc+PBGkLctcCXVxM6hGkGtXm4qCSBnzegJP5mpP8AhENN/wCfrWf/AAeXn/x2gDdorC/4RDTf+frWf/B5ef8Ax2j/AIRDTf8An61n/wAHl5/8doA3aKwv+EQ03/n61n/weXn/AMdo/wCEQ03/AJ+tZ/8AB5ef/HaAF1L/AJHTRP8ArjdfyStyuebwRpDzxzPLqzSxAhHOtXmVB64Pm8ZwKk/4RDTf+frWf/B5ef8Ax2gDdorC/wCEQ03/AJ+tZ/8AB5ef/HaP+EQ03/n61n/weXn/AMdoA3aKwv8AhENN/wCfrWf/AAeXn/x2j/hENN/5+tZ/8Hl5/wDHaADW/wDkZfDf/X1N/wCk8lbpGetc9J4I0iWWKWWXVnkhYtGza1eEoSCCR+944JH41J/wiGm/8/Ws/wDg8vP/AI7QBu0Vhf8ACIab/wA/Ws/+Dy8/+O0f8Ihpv/P1rP8A4PLz/wCO0AbtFYX/AAiGm/8AP1rP/g8vP/jtH/CIab/z9az/AODy8/8AjtAB4i/5C3hr/sKH/wBJbit2uel8EaRM8TzS6s7Qv5kZbWrwlGwVyP3vBwxH0JqT/hENN/5+tZ/8Hl5/8doA3AoX7oA+gpawv+EQ03/n61n/AMHl5/8AHaP+EQ03/n61n/weXn/x2gDdorC/4RDTf+frWf8AweXn/wAdo/4RDTf+frWf/B5ef/HaAF8T/d0j/sKQfzNbhGevNc9N4I0i42efLq0nluHTdrV4drDoR+961J/wiGm/8/Ws/wDg8vP/AI7QBu0Vhf8ACIab/wA/Ws/+Dy8/+O0f8Ihpv/P1rP8A4PLz/wCO0AbtFYX/AAiGm/8AP1rP/g8vP/jtH/CIab/z9az/AODy8/8AjtAC+Lf+QND/ANf1r/6PStyuem8EaRcxhLiXV5VDBgr61eEAg5B/1vUEA1J/wiGm/wDP1rP/AIPLz/47QBu0Vhf8Ihpv/P1rP/g8vP8A47R/wiGm/wDP1rP/AIPLz/47QBu0Vhf8Ihpv/P1rP/g8vP8A47R/wiGm/wDP1rP/AIPLz/47QA7xh/yK11/vRf8Aoxa2l+6PpWBP4J0i5hMVxLq8sbYyj61eEHByOPN9RT/+EP03/n61n/weXn/x2gDcKKTkqCfXFLWF/wAIhpv/AD9az/4PLz/47R/wiGm/8/Ws/wDg8vP/AI7QBu0Vhf8ACIab/wA/Ws/+Dy8/+O0f8Ihpv/P1rP8A4PLz/wCO0Aaeqf8AIHvP+uD/APoJqDw9/wAi3p3/AF7J/IVSfwbpciMj3GsMrDDKdbvCCP8Av7SReC9KhiWKGfWEjQYVV1u8AA9B+9oA3ti7t20Z9cUtYX/CIab/AM/Ws/8Ag8vP/jtH/CIab/z9az/4PLz/AOO0AbtFYX/CIab/AM/Ws/8Ag8vP/jtH/CIab/z9az/4PLz/AOO0AbU3+ok/3T/Ksnwj/wAinp//AFy/qajPg/TSCDc6yQf+o3ef/HaZD4J0i2hWG3m1eKNBhUTWrwAfh5tAG/sXdu2jPrilrC/4RDTf+frWf/B5ef8Ax2j/AIRDTf8An61n/wAHl5/8doA3aKwv+EQ03/n61n/weXn/AMdo/wCEQ03/AJ+tZ/8AB5ef/HaAN2sXwj/yLcX/AF2n/wDRr0z/AIRDTf8An61n/wAHl5/8dpkPgnSLaIR28urxICSFTWrwDJOT/wAtfU0Ab+0eg/KlrC/4RDTf+frWf/B5ef8Ax2j/AIRDTf8An61n/wAHl5/8doA3aKwv+EQ03/n61n/weXn/AMdo/wCEQ03/AJ+tZ/8AB5ef/HaAN2sPwp/x4Xv/AGELj/0YaT/hENN/5+tZ/wDB5ef/AB2o4fBGkW6ssEurxhmLsE1q8GWJyT/repoA6Dau7dtGfXFLWF/wiGm/8/Ws/wDg8vP/AI7R/wAIhpv/AD9az/4PLz/47QBu0Vhf8Ihpv/P1rP8A4PLz/wCO0f8ACIab/wA/Ws/+Dy8/+O0AbtYfhv8A4+dd/wCwo/8A6LjpP+EQ03/n61n/AMHl5/8AHaji8EaRAZDDLq0ZlffIV1q8G5sAZP73k4A/KgDocDOcc0Vhf8Ihpv8Az9az/wCDy8/+O0f8Ihpv/P1rP/g8vP8A47QBu0Vhf8Ihpv8Az9az/wCDy8/+O0f8Ihpv/P1rP/g8vP8A47QBu1haD/yH/E//AGEY/wD0kgo/4RDTf+frWf8AweXn/wAdq9pWjWejRzrYifNxL5srz3Mk7u20LktIzH7qqMZ7UAX6KKKACiiigAooooAKKKKACiiigAooriJLrWNTtNV1a21OS2WykdYLdFGxgnXdnrmplLlOevXVG2l277eW529FVNKvDqGkWt2ww00SuQPUirdUtVc2jJSipLqFFFFBQUUVU1Nb57F10uSOK4YgCSRchR3OO5oZMnypu1y3RWB4NvLq90ASX87XEyzOhkYdcNit+lF8yuRRqKrTVRdQooopmoUUVQ1Wxu76JI7TUJLFQcyNEoLMPQE9KT2Jk3GN0rl+iub8HX95eW99HeXJu47a5aKG4YAGRR9OtdJSjLmVyKNVVqamuoUUUVRqFFNkDGNgjbWIODjODXEWWpXEXi2ys7TXpNU8zeLuN1UKmB1GBxz2qJS5bHNWxCouKa3dun9fcdzRRRVnSFFFFABRTZJFijZ5GCqoySewri9O1zU9Q8Z28hlaPTLpJPs8GPvKnG8/U5qJSUbI562IjSlGL3bt/wAE7aiiirOgKKKKACiiquqSSQ6TdSQEiRYmKEDkHFD0JlLlTZaorjfCl8t1cQG48QXM900eXtJlCjPtxk4rsqmMuZXMsPWVeHOl+X6BRRRVG4UUVm+IdTOj+H7u+QAvEmVz0yTgfqaTdldkTmqcXOWy1NKiuS8MXyXV8hl8QT3l08RZ7Z0CofdRjtXW0oy5lczoVlWhzr9H+QUUUVRuFFFVtQtZbyzaGC7ltHJBEsWNw/OgUm0rpXLNFchov9ojxlcWv9rXN7Z2kWJfNAwZD0HA7V19TGXMjGhW9tFytazt9wUUUVRuFFFFABRXnfiLXb611fUYpdUuLKeLb9gt4kXbNn1yOea72xad9Pt2uwBO0amQDoGxz+tRGak2jkoYqNapKCXw/wDDfoT0UUVZ1hRRRQAUV5xNr2oNp95rDa15NxbXTIunHaF2BsYI6k4716JBJ51vHKON6BvzFRGakcmHxUK7aivP5P8A4YfRRRVnWFFFFABRXKtdaxB45s4Ly7T7LcRyslvEuAoXGCT3PNVZbnVtZu9antNSksotNcxQRRqCHZRkls9eaz9p5HC8YldKLve1tOiv37HaUVn6Dfvqmg2d7KAHmjDNj171oVad1c7ISU4qS2YUUUUygorlWudYh8eWVvd3aG0uElK28S4ACjgk9zR4tudYs5rWe1u0gs/tEUZRF+eQsecnsKz59G7HE8WlCU+V+67f8H8TqqKQfdH0pa0O0KKKo6wt+2nONKljhm7ySLnavcgetJ6ImUuWLdrl6iuc8PS6hqvguJjfMl5JkfaSoYjDdcdOlV9BuL+38XXulS6hJqNrFAshklA3RuT93I9qjn28zlWKT5Hyu0/TrqdXRRRWh2BRRRQAUVyuuXWsWvifScXaR2NxdCLyY15cYydx/pR4uufsYeaXxBLp22ImGCJRl2Hrxz9Kzc7X8jili1FTbj8L8l+p1VFZ3h+5urvw/ZXF/j7RJEGcjufWtGrTurnVCSnFSXUKKKKZYUVyuu3OsWviTS9t2sdjPdCLyUXlxjJ3GrXivVLq3tksdJfbfXAJD4z5SAZLVHOlfyOR4qMVNtP3dPX0OgorH8J3c994Vsbi7kMs0keXdupOa2KpO6ub05qpBTXVXCiiimaBRXLeKbrV7PULGW3u1hsmuY4zGi/NJnrk+lReKb+e31yzhbU7jT7RoWZ5IUz82eM8Gs3USucVTGRhzXT91pdOp11FUdGeOTSoWhvmv0I4uGIy35Veq07o64y5oqXcKKKKZQUUUUAFFFFABRRRQAUUUUAFFFFABXGPo+uWcOp6ZYQQy2t9IzpcNJgxBvvAr3rs6KmUVI561CNa121bt57lbT7QWGm29opyIYwmfXAqzRRVbG8UopJBRRRQMKrahLdQ2bNY2y3M2cCNpNmR9as0UCkrq17HOeELPVNNspLTUrNIV3tIsizBsljnGK6OiipjHlVjOjSVGmoJ3SCiiiqNQrA8Wwazd6atroar+9bE7eYEYJ3AJ9a36KUldWMqtNVYODbV+xkeHYrm1sBaz6bHYRQgLGqTB93qT71r0UUJWViqcPZwUU9v66BRRRTLGTGQQSGAKZdp2BuhOOM1ycmmatq+s6dPd6bb6eLOXzJJo5QzSewwOn1rr6KmUebcwrUFWtzN27BRRRVG4UUUUAVdSsE1PTprOZ3RJl2sUODiuXTwZcWviHTp7e/untbZGBLyDK9MKB6GuyoqJQUtWc1bC0q0lKa1VvwdwoooqzpCiiigAqK6aZbWQ2qLJMF+RHOAT9alooE1dWOVGnarq/iDT7y/sYbCGxLN8kgdpCRjHHQV1VFFTGNjKlRVK+t29XcKKKKo2Cs3xBpravoN1ZRsFeVPkJ6bgcj9RWlRSaurMicFOLhLZ6HKWOl6te65p15qdpDZx6dEyjy5AxlYjHboK6uiilGPKRRoqkmk737/AHfoFFFFUbBTJzItvIYV3SBTsUnGTjin0UAzG8MaVNpelt9twby4kaacg5+Ynpn2rZoopJJKyM6dONKChHZBRRRTNAooooA4W/8AD2qG41aMabbX4v3zFcyygNEMcDB9Pauu0m0lsNHtLW4k82WGJUd/7xAq5RURgou6OWjhYUZucev+d/6uFFFFWdQUUUUAcdq+iXut3D276NZWqPL+8vtys7ID24zk116II41ReFUAD6U6ipjFJ3OelQjSk5LVv+ugUUUVR0BRRRQByd/Brs3iq01CLSozDaLJGM3IBcMRz046dKjk0rXNPu9Wj023hnt9TbzA7y7TCxGGyO9dhRWfs13OF4KLbbk7t36drduxS0fTxpej2tkG3eTGFJ9T3q7RRVpWVjsjFQiorZBRRRTKOTv4Ndm8V2moQ6XG0NoJIxm5ALhuM9OPpUviu21jUo4Law0+OSOOWOYyNOF5U5K4/rXT0VnyaNX3ON4ROMouT97V7f5ENo88lpG11CIZSPmjDbtp+tTUUVodaVlYKp6pJdx2Lf2farcyt8uxpAnB75q5RSeopLmTV7HI6RbeIdN8JzWMVjDHdxqfIczghiTz9MVP4UstS0xfs97pqReZl5rr7QHaR/cYrp6KhU0ra7HJDCRhKLUn7qstv8gooorQ7QooooA5bxFba1e6vYSWWnRyQ2NwJg7XAUycYxjHFWdTk1mZDEuiWt1HLEBh5h8jEcg5HI+ldBRUcm+pyPC3cnzP3vT/ACMrwzpc2jeH7ayuZBJLGDuIPAz2FatFFUlZWR0U4RpwUI7LQKKKKZZy3iO21q91Wxex06OWGynEwdrgL5nGMYxxUuo+Fzqkz6i1zc2d7JB5bRxSjaOPu5x0zXSUVHIne5yPCU5OTm27/wBaWMTwjpFxovh6C1u5HeYDLKzbgnsPatuiiqSSVkb0qcaUFTjsgooopmhzHiq11jUJbaLT7COWKCdJ/MacLuI7Yq3d3euCOLytGgm3x/OrXA/dt6dORW5RUcurdzl+r+9KSm1f0/yMXwro82i6L5F0yGaSV5XCfdUsc4H0raooqkklZG1KnGlBQjsgooopmgUUUUAFFFFABRRRQAUUUUAFFFFABRRRQAUUUUAFFFFABRRRQAUUUUAFFFFABRRRQAUUUUAFFFFABRRRQAUUUUAFFFFABRRRQAUUUUAFFFFABRRRQAUUUUAFFFFABRRRQAUUUUAFFFFABRRRQAUUUUAFFFFABRRRQAUUUUAFFFFABRRRQAUUUUAFFFFABRRRQAUUUUAFFFFABRRRQAUUUUAFFFFABRRRQAUUUUAFFFFABRRRQAUUUUAFFFFABRRRQAUUUUAFFFFABRRRQAUUUUAFFFFABRRRQAUUUUAFFFFABRRRQAUUUUAFFFFABRRRQAUUUUAFFFFABRRRQAUUUUAFFFFABRRRQAUUUUAFFFFABRRRQAUUUUAFFFFABRRRQAUUUUAFFFFABRRRQAUUUUAFFFFABRRRQAUUUUAFFFFABRRRQAUUUUAFFFFABRRRQAUUUUAFFFFABRRRQAUUUUAFFFFABRRRQAUUUUAFFFFABRRRQAUUUUAFFFFABRRRQAUUUUAFFFFABRRRQAUUUUAFFFFABRRRQAUUUUAFFFFABRRRQAUUUUAFFFFABRRRQAUUUUAFFFFABRRRQAUUUUAFFFFABRRRQAUUUUAFFFFABRRRQAUUUUAFFFFABRRRQAUUUUAFFFFABRRRQAUUUUAFFFFABRRRQAUUUUAFFFFABRRRQAUUUUAFFFFABRRRQAUUUUAFFFFABRRRQAUUUUAFFFFABRRRQAUUUUAFFFFABRRRQAUUUUAFFFFABRRRQAUUUUAFFFFABRRRQAUUUUAFFFFABRRRQAUUUUAFFFFABRRRQAUUUUAFFFFABRRRQAUUUUAFFFFABRRRQAUUUUAFFFFABRRRQAUUUUAFFFFABRRRQAUUUUAFFFFABRWNL4u0GGeSGTUoRJE5R15O1h1FM/4TLw//ANBOL8j/AIUAblFYf/CZeH/+gnF+R/wo/wCEy8P/APQTi/I/4UAblFYf/CZeH/8AoJxfkf8ACj/hMvD/AP0E4vyP+FAG5RWCnjbw5Ju2arA207Wxk4Pp0p3/AAmXh/8A6CcX5H/CgDcorD/4TLw//wBBOL8j/hR/wmXh/wD6CcX5H/CgDcorD/4TLw//ANBOL8j/AIUf8Jl4f/6CcX5H/CgDcorBXxt4cdmVNVgZkOGAzx+lO/4TLw//ANBOL8j/AIUAblFYf/CZeH/+gnF+R/wo/wCEy8P/APQTi/I/4UAblFYf/CZeH/8AoJxfkf8ACj/hMvD/AP0E4vyP+FAG5RWCPG3hxpGRdVgLrgsozkZ6dqd/wmXh/wD6CcX5H/CgDcorD/4TLw//ANBOL8j/AIUf8Jl4f/6CcX5H/CgDcorD/wCEy8P/APQTi/I/4Uf8Jl4f/wCgnF+R/wAKANyisEeNvDhlMY1WDeoDFecgHoensad/wmXh/wD6CcX5H/CgDcorD/4TLw//ANBOL8j/AIUf8Jl4f/6CcX5H/CgDcorD/wCEy8P/APQTi/I/4Uf8Jl4f/wCgnF+R/wAKANyisE+NvDiyKjarAHYEqpzk469qd/wmXh//AKCcX5H/AAoA3KKw/wDhMvD/AP0E4vyP+FH/AAmXh/8A6CcX5H/CgDcorD/4TLw//wBBOL8j/hR/wmXh/wD6CcX5H/CgDcorBbxt4cR0VtVgDOcKDnLHGeOPQU7/AITLw/8A9BOL8j/hQBuUVh/8Jl4f/wCgnF+R/wAKP+Ey8P8A/QTi/I/4UAblFYf/AAmXh/8A6CcX5H/Cj/hMvD//AEE4vyP+FAG5RWC/jbw4jIH1WBS7bVBz8xwTgcegP5U7/hMvD/8A0E4vyP8AhQBuUVh/8Jl4f/6CcX5H/Cj/AITLw/8A9BOL8j/hQBuUVh/8Jl4f/wCgnF+R/wAKP+Ey8P8A/QTi/I/4UAblFYL+NvDke3zNVgXcwVc5GSe3Snf8Jl4f/wCgnF+R/wAKANyisP8A4TLw/wD9BOL8j/hR/wAJl4f/AOgnF+R/woA3KKw/+Ey8P/8AQTi/I/4Uf8Jl4f8A+gnF+R/woA3KKwX8beHIl3SarAoyBk5HJOAOlO/4TLw//wBBOL8j/hQBuUVh/wDCZeH/APoJxfkf8KP+Ey8P/wDQTi/I/wCFAG5RWH/wmXh//oJxfkf8KP8AhMvD/wD0E4vyP+FAG5RWDJ428ORIXk1WBFHUtkD+VO/4TLw//wBBOL8j/hQBuUVh/wDCZeH/APoJxfkf8KP+Ey8P/wDQTi/I/wCFAG5RWH/wmXh//oJxfkf8KP8AhMvD/wD0E4vyP+FAG5RWG3jTw8qlm1SEADJJzx+lInjXw66Bk1SFlYZBGcH9KAN2isP/AITLw/8A9BOL8j/hR/wmXh//AKCcX5H/AAoA3KKw/wDhMvD/AP0E4vyP+FH/AAmXh/8A6CcX5H/CgDcorD/4TPw+Oupxfkf8KRPG3h2VA8eqwup6MuSD+lAG7RWH/wAJl4f/AOgnF+R/wo/4TLw//wBBOL8j/hQBuUVh/wDCZeH/APoJxfkf8KP+Ey8P/wDQTi/I/wCFAG5RWH/wmXh//oJxfkf8Kanjbw5Km6PVYHXJGVyf6UAb1FYf/CZeH/8AoJxfkf8ACj/hMvD/AP0E4vyP+FAG5RWH/wAJl4f/AOgnF+R/wo/4TLw//wBBOL8j/hQBuUVh/wDCZeH/APoJxfkf8Kanjbw5ICY9VgYAkEjJwR1HSgDeorD/AOEy8P8A/QTi/I/4Uf8ACZeH/wDoJxfkf8KANyisP/hMvD//AEE4vyP+FH/CZeH/APoJxfkf8KANyisP/hMvD/8A0E4vyP8AhTU8beHJCwTVYG2NtbGTg+nSgDeorD/4TLw//wBBOL8j/hR/wmXh/wD6CcX5H/CgDcorD/4TLw//ANBOL8j/AIUf8Jl4f/6CcX5H/CgDcorD/wCEy8P/APQTi/I/4Voabq9hrEUkmmXUdwkT+XIUP3WwDg/gQfxoAuUUUUAFFFFABRRRQAUUUUAFFFFAGH4V/wCQfef9hC4/9GGta4u7e1ANzPHED03sBmsnwr/yD7z/ALCFx/6MNYVjFFqV1rGpahYvqdxBcmCK2yPkQegPFRKVtjmr1nTtGK1f6HbxypNGHidXQ9GU5Bp1Yvha5s7nS3On2b2cazMrQufusOtbVVF3VzWlP2kFPuFFFFM0MPw3/rtZ/wCwjJ/Ja3Kw/Df+u1n/ALCMn8lrF1jxReLrV7aWd0tqtmo2qbdpTM+M4JA4FTKSitTnxGIhh4qU+p21FUdGvZdR0e2uriIwyyoC6EYwavU07q5tGSnFSWzCiiimUYeh/wDId17/AK+U/wDRYrcrD0P/AJDuvf8AXyn/AKLFZWu+JLqLX5tOtLtbNbeIOXNu0pdj0HA4FTKSirswr14UI80jsaKzfD2oT6poVtd3cJhmdfnQgjkcdDWlTTurmkJqcVNbMKKKKZZh6b/yOOt/9cbb+Ulaxu4BeC0Mq+eU3iPvt9aydN/5HHW/+uNt/KSsHxRrLaN40hlhQPPNZ+VFuOFDF+Cx7ConLlVzlxWIWHgpva6O6oqvYJcpYQi+lWa42/O6LgE+1WKs6Yu6uFFFFAzDtv8AkftQ/wCwdbf+jJq3Kw7b/kftQ/7B1t/6Mmqt4q1a+066s44JhaWsobzbswmQIR0BHYe9TKSirsxrVY0Yc8tjpaKgspDLYwyNKkxZATJH91zjqPap6o1TurhRRRQMw9S/5HTRP+uN1/JK3Kw9S/5HTRP+uN1/JK3KACiiigAooooAwtb/AORl8N/9fU3/AKTyVr3d3b2Ns1xdyrFEn3nY4ArI1v8A5GXw3/19Tf8ApPJWf4/hupdOsRBOscbXkasjJnJJ4P0HpUzlyxuc+JqujSlOKu0dRbXMN5bpPbOJInGVYd6lqG0ieC0jjlZWdVwzIu0E/SpqpG0b8qvuFFFFBRheIv8AkLeGv+wof/SW4rdrC8Rf8hbw1/2FD/6S3FSeJ9Xm0fSlktEVrieZIIt/3QzHGTSbSV2Z1KkaUHOWyNmiuasL/VrHxNFpWrzxXS3MDSxyRptKleox6V0tKMrk0qqqptK1tNQoooqjYw/E/wB3SP8AsKQfzNblYfif7ukf9hSD+ZqXxTqFxpXhm7vbIqJ4guzcMjJYD+tJuyuRUqKnBzlslc16KzdETUxZb9XuIppZMOBEm0ICOnvWlQndXCEueKlawUUUUyzD8W/8gaH/AK/rX/0elblYfi3/AJA0P/X9a/8Ao9K3KACiiigAooooAxPGH/IrXX+9F/6MWtpfuj6Vi+MP+RWuv96L/wBGLV7VbiS00S6uIf8AWRwsy/UCk9ETKSjFyfQllv7SGYRTXMKSHorOAasA5GRyK8/gttOsvClvqF5pEmrNcxGa5uAQSp78k/yruNPkjl022kt1KxNEpRSeQMcVEZOW5y4fESqu0rLRPr1+VvuLFFFFaHYVdU/5A95/1wf/ANBNQeHv+Rb07/r2T+QqfVP+QPef9cH/APQTVTRZRB4Ss5mGRHaKxH0XNAm7K5q0VwFh4v1G4ms7kTLOlxMEezS2ceWhPXfjBIrv6iM1LY58PiqeITcOgUUUVZ0jJv8AUSf7p/lWT4R/5FPT/wDrl/U1rTf6iT/dP8qyPCrbPB9ix6LCT+poA2qK89j8ZajMyXkEyyK1xs+wrbOTszjO/GM969CHIqIzUtjlw+Kp4i/J0CiiirOoKxfCP/Itxf8AXaf/ANGvW1WJ4S/5FuP/AK7T/wDo16ANW2u4LtXNtKsgRyjbexHUVNXnvh/VruTWrjRtNZIX+2STTyyjPyA/dUdz/KvQqiE+ZXOTC4lYiHMun5hRRRVnWFYfhT/jwvf+whcf+jDW5WH4U/48L3/sIXH/AKMNAG5RXJrrV83i6SyuryOyjWYLDBJCf36Y6h/WusqYyUtjCjWjVvy9HYKKKKo3CsPw3/x867/2FH/9Fx1uVh+G/wDj513/ALCj/wDouOgDXN1At2ts0qiZlLKmeSB3qWueuUJ+IVk2OPsUnP4iuhqU73MaVRzck+jt+QUUUVRsFYWg/wDIf8T/APYRj/8ASSCt2sLQf+Q/4n/7CMf/AKSQUAbtFFFABRRRQAUUUUAFFFFABRRRQBh+Ff8AkH3n/YQuP/Rhpt54XEmpS32m39xp08w/e+Tgq/uQe9VNPbXtI+128ehC6je7llSVbxF3KzEjg8jrVv8AtfxB/wBCyf8AwPjpOKe5lUpQqq00XdE0ePRbE28cskxZzI8knVmPU1o1g/2v4g/6Fk/+B8dH9r+IP+hZP/gfHQkkrIqEIwiox2RvUVg/2v4g/wChZP8A4Hx0f2v4g/6Fk/8AgfHTLHeG/wDXaz/2EZP5LRd+G2k1SW+0/UZ7GWcATCMAh8d8HvWbpU3iPT5L5pPDgf7TdNOuL+PgEDg8e1aH9r+IP+hZP/gfHSaT3M6lKFRWkjZtojBbRxNI0rIuC79W9zUtYP8Aa/iD/oWT/wCB8dH9r+IP+hZP/gfHTLSsrG9RWD/a/iD/AKFk/wDgfHR/a/iD/oWT/wCB8dAx2h/8h3Xv+vlP/RYp2oeHmudUOoWN/NY3DIEkMYBDgdMg1l6fN4js9R1G4fw4GW7lV1Av48rhQOePatD+1/EH/Qsn/wAD46TSe5nUpxqK0jYs4GtbSOGSZ52QYMj/AHm9zU1YP9r+IP8AoWT/AOB8dH9r+IP+hZP/AIHx0y0klZG9RWD/AGv4g/6Fk/8AgfHR/a/iD/oWT/4Hx0DHab/yOOt/9cbb+UlSal4atNV1B7m7LMHtzAY8DGM5z9aybWbxHb65qF83hwFLpIlVRfx5XZuznj/arQ/tfxB/0LJ/8D46TSe5nUpwqLlmro09LsW03TYrRriS58obRJJ94jtVusH+1/EH/Qsn/wAD46P7X8Qf9Cyf/A+OmtNCoxUYqK2RvUVg/wBr+IP+hZP/AIHx0f2v4g/6Fk/+B8dBQ62/5H7UP+wdbf8Aoyap9Z0abVcCLUZrWMoUkRFBDg/WsaKbxHH4judSPhwFJrWKAJ9vjyCjSEnp/tj8q0P7X8Qf9Cyf/A+Ok0mrMipTjUjyy2NbT7KLTtPgs4M+XCgRc9cCrFYP9r+IP+hZP/gfHR/a/iD/AKFk/wDgfHT2KjFRVlsb1FYP9r+IP+hZP/gfHR/a/iD/AKFk/wDgfHQMdqX/ACOmif8AXG6/klblcjdTeI7jXtPv18OAJapMrKb+PLbwuMcf7NaH9r+IP+hZP/gfHQBvUVg/2v4g/wChZP8A4Hx0f2v4g/6Fk/8AgfHQBvUVg/2v4g/6Fk/+B8dH9r+IP+hZP/gfHQAut/8AIy+G/wDr6m/9J5KvavpUer28MUsjRiGdJgV7le1c/fy+I7zVdKu08OBVsZnkdTfx5YNEyccerZrR/tfxB/0LJ/8AA+Ok1dWZM4xnFxlsb1FYP9r+IP8AoWT/AOB8dH9r+IP+hZP/AIHx0yjeorB/tfxB/wBCyf8AwPjo/tfxB/0LJ/8AA+OgBfEX/IW8Nf8AYUP/AKS3FXtZ0iDW9Oa0uSyjcHV0OGRgcgiuf1OXxHf3mlTJ4cCixvDcODfx/MPJkjwOOuZAfwrR/tfxB/0LJ/8AA+Ok0mrMmcIzi4yV0yTTPDv2LUft93fTX1yI/LR5QBsX0AFbVYP9r+IP+hZP/gfHR/a/iD/oWT/4Hx0JJbE06cKa5Yo3qKwf7X8Qf9Cyf/A+Oj+1/EH/AELJ/wDA+OmaDvE/3dI/7CkH8zV7WNMTWdJmsJZGjSbGWXqMEH+lc/q83iPURZeX4cCfZ7uO4bdfx8hc8dOvNaH9r+IP+hZP/gfHSaurMmUVOLjLZm5Gnlxqg5CgCnVg/wBr+IP+hZP/AIHx0f2v4g/6Fk/+B8dMo3qKwf7X8Qf9Cyf/AAPjo/tfxB/0LJ/8D46AHeLf+QND/wBf1r/6PStyuR1qbxHqlikEfhwIVuIZctfx9EkViOntWh/a/iD/AKFk/wDgfHQBvUVg/wBr+IP+hZP/AIHx0f2v4g/6Fk/+B8dAG9RWD/a/iD/oWT/4Hx0f2v4g/wChZP8A4Hx0AP8AGH/IrXX+9F/6MWtlkWSEo4DKy4IPcVymtz+I9V0eazi8OBGkKEM1/HgYcN6e1Xxq3iAAf8Uyf/A+OgCpJ4JAgltLPVru3sZid1suCoB6gE8gV0lrbpaWkVvHnZEgRc+gGKxv7X8Qf9Cyf/A+Oj+1/EH/AELJ/wDA+OpUVHYwp4elSd4KxvUVg/2v4g/6Fk/+B8dH9r+IP+hZP/gfHVG5qap/yB7z/rg//oJqtoKLJ4XsEcZVrVAR6jbWdeah4hubGeBfDWDLGyAm/j4yMVHpl54isdKtbV/De5oYlQsL+PBwMUAWbDwzNp0kaW2r3Qs433LbELgc9M9cVv1g/wBr+IP+hZP/AIHx0f2v4g/6Fk/+B8dJRS2MqdKFJWhsb1FYP9r+IP8AoWT/AOB8dH9r+IP+hZP/AIHx0zU25v8AUSf7p/lWT4TAbwjYA9DFg/magk1XxA8bKPDJ5BH/AB/x1T0W48R6XottZSeGw7QptLLfx4PP0oAuW3heWxm22OrXMFp5nmfZgFIGTkgHriugrB/tfxB/0LJ/8D46P7X8Qf8AQsn/AMD46SilsZU6UKStBG9RWD/a/iD/AKFk/wDgfHR/a/iD/oWT/wCB8dM1N6sTwj/yLcf/AF2n/wDRr0z+1/EH/Qsn/wAD46oaLP4j0vS0tZPDgdlkkbct/Hj5nZvT3oAtN4OtuJIrmWK4S6Nwk6gblz1X3FdGOAM81g/2v4g/6Fk/+B8dH9r+IP8AoWT/AOB8dSopbGVOjTpX5Fa5vUVg/wBr+IP+hZP/AIHx0f2v4g/6Fk/+B8dUam9WH4U/48L3/sIXH/ow03+1/EH/AELJ/wDA+Os/R5vEem288cnhwOZbmWYFb+PgMxIHSgDQufDJvNUiubvUZ5YIZxPHbkDCsDkc9cVvVg/2v4g/6Fk/+B8dH9r+IP8AoWT/AOB8dJRS2M4UoU23Fbm9RWD/AGv4g/6Fk/8AgfHR/a/iD/oWT/4Hx0zQ3qw/Df8Ax867/wBhR/8A0XHTf7X8Qf8AQsn/AMD46z9Km8R6fLqLv4cDi7u2uFxfx/KCqrg8dfloA6J9PL6xFffaHAjjMflADac96uVg/wBr+IP+hZP/AIHx0f2v4g/6Fk/+B8dK1iYxUb26m9RWD/a/iD/oWT/4Hx0f2v4g/wChZP8A4Hx0yjerC0H/AJD/AIn/AOwjH/6SQUn9r+IP+hZP/gfHTvDltfx3WsXmp2i2b314sscQlEhCiCKPkjjqhoA3KKKKACiiigAooooAKKKKACiiigAooooAKKytc8R2Hh+FXvWcu/3Y41yxHr9Kk1DW7TTNMjvbosEl2iNFXLOSOAB61PMjF16Sck5LTfyNGiqGlaodTjdmsrm0KEDbcJgn3FX6ad1c0hNTjzR2CiiimUFFY8fibT5vEK6PCXkuCGJYL8qlRkjPrUeoeKIrHVHsUsby6ljUM3kR7gAelTzx7nO8TRS5ubS9vn2Nyio4JfPt0l2NHvUHa4wR7GpKo3TurhRRRQMKKx9b8T6foTxx3Zd5ZCAI41yQCcZPoK0L++g02wlu7ptsUS7mP9KXMjL21O8lf4d/IsUVQ0XV4Nc0uO+tVdY3JADjBGDir9Caaui4TjOKlF3TCiiimUFFY9n4n0/UNck0y0Z5JI0LGQL8nBwQD3qve+L7WwvGintLwQpIInufK/dq31/rU88bXuc7xVFR5uZW2OgooBBAI6GiqOgKKKr319b6dZvc3knlxIOTjP4UbCclFXexYorK0zxBa6por6nAkqwIWBDL83y9eKr6d4stb/UksZLW6tJpFLxC4j2+YB6VPPHTUx+s0fd974tjdoooqjcKKKytc8R2OgRI16zs7/djjXLEevsKTaSuyKlSFOLnN2SNWis/Udbs9L0xb27ZljcAooXLMcZwBU2m38WqabDewBhHMu5Qw5our2EqsHPkT13LVFFFM0CiisaPxRp83iEaPAXknKsS4X5AR1GfWk2luZzqQhbmdr6I2aKwdR8W2en3ktuILm5NuAbh4I9yxA+prZtrmK8tY7i3bfFIoZWHcGkpJuyFCtTnJxi7tEtFFFUahRRVe/vrfTLGW7vH2QxLuY0bClJRV3sWKKxNK8UW2p332M29zazsnmRrcJt8xfUVt0k01dEU6sKseaDugooopmgUUUUAFFIzBFLMcKoySewrnrXxpY3V3BGtvdJBcSeVDcvHiORumAalyS3MqlanTaU3a50VFFFUahRRRQAUUUUAFFUtU1H+zLYSi1uLrLY2QJuI96o6R4ng1bUpbFbS6tp4UDss6bcA9KnmSdjGVenGapt6s26KKKo2CiiigAorG1LxJb6fffYora4vboLveK2TcUX1PpWrbzefbxy7GTeoba4wR7GkpJuyM41YTk4xeqJKKKKZoFFVNU1GLSdNmvbhWaOIZIQZJqtpOuf2rI6iwu7UKu4NPHtDfSlzK9jJ1oKapt6mpRRRTNQooooAKKKx7XxNY3viObRrfe08MZdnx8vBAIz68ik2luZzqQg0pO19EbFFFFM0CiiigAoorN1bWV0ry1Fpc3ckmSqW8e7gdyegpNpK7InOMI80tjSoqjo+r22tWAurTcF3FWVxhlYdQRV6hNNXQ4yjOKlF3TCiiimUFFFFABRXPXfjGzsr8wXFrdpCJfJN0YsRhs46/wBa6GkpJ7GVOtTqNqDvYKKKKZqFFFFABRUV1dQ2Vq9xcuI4oxlmPaqOh69a6/BPNZrIqQymI+Yu0kj2pXV7GbqQU1BvV9DTooopmgUUUUAFFFFABRRRQAUUUUAFFFFABVPUn1BLdTpUUEsu75hO5UY/AGrlFJ6kyXMrXscz4qkI8F3Z1EW8V40GCqtnuOATyay/EpW4XwuyXgggEu1p1wQjbBj29a66+0nT9SZGv7SK4KDCmRc4po0XTRYmyFlD9mJ3GLZ8ufWs5QbuefWwtSq5aqzSXno76+pkeGb26k1XU7GW8N/b2xTy7ggdSOVyOuK6WoLOxtdPh8mygjgjznai4qerimlZnXQpyp01GTu/6/IKzbyTWVvkWxt7R7Xjc0kpDD1wAK0qKbVzSceZWvY5TUZ7WL4gaRtlhQLDNvwwGDjvSa5aQxXl7qlprgsrlYRvTcpHAyMitmXw5o887TTabbvIx3MxQZJp9xoOlXdyLi5sIJJRj5mTJ4rPkepwSw1WSknbV3Wr00t0G+Hr241Hw/Z3d4myaWMMwxjn1rSpFUKoVQAAMADtS1otEd8IuMFFu7QVR1OTVERP7Jht5Wz8/nyFcfTANXqKHqOUeZWvY5LxvIo8Lr9q8mO7aSEuqt/tDOO5FL4lkurzU7BYLCe/02M+bJ9nKkO46A89B1rfvdG03UZRJfWUM7qMBpFyQKntbSCyt1gtIkhiXoiDAFZuDbZwzws5zld2Tt66d9La3Oa+Hlw83h0o1tJCqTPhmxhssen0rq6it7aG0h8q2iWKPJO1RgZPWpauK5YpHTh6To0Y05O9kFZ3max/a2z7Pa/YM/6zzD5mMemMfrWjRTauaSjzW1scoZ7RPiNCI5YVX7Cy/KwAzu6fWqPjVzPZy3MOsQy28Eq77Dj52U4K5HOc9q6YeG9GE/nDTbfzN27dsGc9c09tB0p7z7W9hAZ87jIUGSfWsnCTTR508LWnTlB29533f9fLZlu2k820hkK7N6K20/w5HSpaKK2PTWiGyFxE3lAF8fKGOATWbaS6g0cp16GzhjXBQxyFhn3yBWpUN1aQXtu0F3Ek0TdUcZBpNETi3qn8unzOZ8EXltD4cumlnjVY7qd2yw4Xd1qLSbqPxJ4mTWXljitbZWisoiw3yZ+8+Ow9K6GDQNJtRILfT4IxIux9qY3L6Gm2/h7SLWdZrbTreKVDlXVMEVkoSsl2OCOGrKNODtaO++ttv67mlRRRWx6ZT1J9QS3U6VFBLLu5E7lRj8Aaw/F0mPBtwdQEEd40YBVWz3HAJ5IrqKp32k6fqTI1/aRXBQYUyLnFRKLadjmxFGVSElF7q2uxUlntW8M+Y8kJAtyFYsOu3t71D4Mljk8JWCo6sViAYA5xV46FpbWa2hsIDbq24RbPlB9cVLY6XY6aHFhaxW4f73lrjNJJ81yI0qiqxm7WSt+X+RaooorQ7DNnk1kamq29vaNZZGXeUh8d+MYrD1Ke1j+ImkbZIlC28wbDAYJI6+9ddWbJ4c0eWdppNNt2lZtxcoMk+tZyi3scdejUmkovqnr5O+mhzen3ltZHxPFfSpHJ5rPhzgspXjHrW74Rikh8J6ekoKt5QOD2q3c6Lpt5Ok11ZQyyJwrMgJFXgAoAAwB0AojBp6k0MNOnPmk9FdL5u+oUUUVodwfSua1Wy1PV9OvLPVxaWdowzHPHKSQwIK5BAFdLUdxbw3du8FzGssTjDIwyDUyjdGNal7WPK/u7+pxFmL+58eaalxe2159jt3LtbJgICMDJ9TXd1VsdMstNQrYWscAbrsXGatUoR5VqZ4Wg6MXzO7bv+nX0CiiirOoKKKKAMe+udWgmnZrS1k05EZmIkPmMAORjGK4HTVe2Gi37XcdzZyXf7nTg+TAWbjHqRXqxGRg8is+HQdKtrv7VBYQJNnO9UGQaxnTcne55mJwc6s1JS279NU/ntszQooorY9MKKKKACmSmQQuYQpkwdoY4BPvT6KAMqC+1C1srm512K2gjhQuDBIWyB65ArP8ABlrK9ncaxegi51KQy4PVY/4R+VdDcW8V1A8NxGskTjDIwyDT0RY41RFCqowAOwqOXVM5fYP2kZSd1G/3vr9wtFFFWdQVQ1KTVUMf9kwW0ufv+fIVx9MA1fopPUmUeZWvY85AuI/EHiKabVf7NuI9kgQYw428cnqM8V2vh+7nv/D9ldXYxNLEGfjHPrUl5o2nX86zXtnDNKnAZ1yRVxVCKFUAADAA7VnCDiziw2FnRm23pr36u/8AwNBaQ52nb1xxmlorU7znb2G/1DT7q18QfZLK0kAVZoZiTnPHUAVU0a8urXxadIXUf7StPs3mlyATC2cAEj1rqLq1gvbdoLuJZom6o4yDUVjpdjpisthaxQBvvbFxms+V3ucMsNP2sZJ7devp2sWqKKK0O4KKKKAOe1O68SQ294bewtpFCEQ+VKTIT0HBGPfrXM+H2lsfGtlAdKu4pDYsspkxuJLqTIeema9HqL7LAbsXXlL54TYJMc7c5x+lZSpttO559XBynUjNTej627+hLRRRWp6AUUUUAV75rtbNzp8cUlxxtWViqn6kVkXct/NYpBd6ja6VfMScRsHDL/wLFb9VL7SrDUwov7WKfb93eucVMk3sYVqcpJ8r+V7L8NTA8AP/AMSe5gO1zDcupnU8THPLV1VRW1tBZwLDaxJFGvREGAKloiuWKQYek6NKNNu9goooqjcKzr+TWEuoxp1vayQcb2mkKsPXAArRopNXInHmVr2OM1y+g8RaumixzxJaWsqyXkrOACwOdg9T612QIKgjkY4rNl8NaNNM0sumWzyOdzMUGSa0lUIoVRhVGAB2qYxabbOehSqQnKdS1327dELRRRVnWFBzg460UUAZdpLqjvL/AG3b2UVsBkMkpbv3yAKyvB88LXuuqkqEtqUjKAw5HqK6W4t4rqBobmNZInGGRhkGqlpoel2E/nWVjBBJjG5Ewaz5XdM45UantISTulfffX5F+iiitDsCiiigAooooAKKKKACiiigAooooAKKKKACiiigAooooAKKKKACiiigAooooAKKKKACiiigAooooAKKKKACiiigAooooAKKKKACiiigAooooAKKKKACiiigAooooAKKKKACiiigAooooAKKKKACiiigAooooAKKKKACiiigAooooAKKKKACiiigAooooAKKKKACiiigAooooAKKKKACiiigAooooAKKKKACiiigAooooAKKKKACiiigAooooAKKKKACiiigAooooAKKKKACiiigAooooAKKKKACiiigAooooAKKKKACiiigAooooAKKKKACiiigAooooAKKKKACiiigAooooAKKKKACiiigAooooAKKKKACiiigAooooAKKKKACiiigAooooAKKKKACiiigAooooAKKKKACiiigAooooAKKKKACiiigAooooAKKKKACiiigAooooAKKKKACiiigAooooAKKKKACiiigAooooAKKKKACiiigAooooAKKKKACiiigAooooAKKKKACiiigAooooAKKKKACiiigAooooAKKKKACiiigAooooAKKKKACiiigAooooAKKKKACiiigAooooAKKKKACiiigAooooAKKKKACiiigAooooAKKKKACiiigAooooAKKKKACiiigAooooAKKKKACiiigAooooAKKKKACiiigAooooAKKKKACiiigAooooAKKKKACiiigAooooAKKKKACiiigAooooAKKKKACiiigAooooAKKKKACiiigAooooAKKKKACiiigAooooAKKKKACiiigAooooAKKKKACiiigAooooAKKKKACiiigAooooAKKKKACiiigAooooAKKKKACiiigAooooAKKKKACiiigAooooAKKKKACiiigAooooAKKKKACiiigAooooAKKKKACiiigAooooAKKKKACiiigAooooAKKKKACiiigAooooAKKKKACiiigAooooAKKKKACiiigAooooAKKKKACiiigAooooAKKKKACiiigAooooAKKKKACiiigAooooAKKKKACiiigAooooAKKKKACiiigAooooAKKKKACiiigAooooAKKKKACiiigAooooAKKKKACiiigAooooAKKKKACiiigAooooAKKKKACiiigAooooAKKKKACiiigAooooAKKKKACiiigAooooAKKKKACiiigAooooAKKKKACiiigAooooAKKKKACiiigAooooAKKKKACiiigAooooAKKKKACiiigAooooAKKKKACiiigAooooAKKKKACiiigAooooAKKKKACiiigAooooAKKKKACiiigAooooAKKKKACiiigAooooAKKKKACiiigAooooAKKKKACiiigAooooAKKKKACiiigAooooAKKKKACiiigAooooAKKKKACiiigAooooAKKKKACiiigAooooAKKKKAP/9k=)"
      ]
    },
    {
      "cell_type": "markdown",
      "metadata": {
        "id": "Nc6LpnMUw5PF"
      },
      "source": [
        "##  [start:stop:step]\n",
        "\n",
        "This is the syntax for slicing the lists. This slicing works depending on the need of slicing the elements from the list."
      ]
    },
    {
      "cell_type": "code",
      "source": [
        "a = ['A','B','C','D','E','F', 'G'] # 0,1,2,3,4,5,6\n",
        "print(a[1])"
      ],
      "metadata": {
        "id": "SfdBKgVupigM"
      },
      "execution_count": null,
      "outputs": []
    },
    {
      "cell_type": "code",
      "source": [
        "a[2:5] # Print index position at 2, 3, 4"
      ],
      "metadata": {
        "id": "QYGX3n2Gprf-"
      },
      "execution_count": null,
      "outputs": []
    },
    {
      "cell_type": "code",
      "source": [
        "# a = A,B,C,D,E,F,G\n",
        "a[3:]"
      ],
      "metadata": {
        "id": "4bQpa3vAqECC"
      },
      "execution_count": null,
      "outputs": []
    },
    {
      "cell_type": "code",
      "source": [
        "a[::]"
      ],
      "metadata": {
        "id": "cmNTozVByLx2"
      },
      "execution_count": null,
      "outputs": []
    },
    {
      "cell_type": "code",
      "source": [
        "a[:4] #start 0, end 3"
      ],
      "metadata": {
        "id": "Fhw0s9IKxhT-"
      },
      "execution_count": null,
      "outputs": []
    },
    {
      "cell_type": "code",
      "source": [
        "a[:len(a)]"
      ],
      "metadata": {
        "id": "Q_Tn4u3pqaFr"
      },
      "execution_count": null,
      "outputs": []
    },
    {
      "cell_type": "code",
      "source": [
        "a[:len(a):2]"
      ],
      "metadata": {
        "id": "8z4oDYkjrO8C"
      },
      "execution_count": null,
      "outputs": []
    },
    {
      "cell_type": "code",
      "execution_count": null,
      "metadata": {
        "id": "Vf4o7MwLvGr4"
      },
      "outputs": [],
      "source": [
        "my_list = ['hello','world','India',4,5]"
      ]
    },
    {
      "cell_type": "code",
      "execution_count": null,
      "metadata": {
        "id": "JcOL2r5KvGpY"
      },
      "outputs": [],
      "source": [
        "# From 0 to 1st element\n",
        "n = 2\n",
        "my_list[0:n] #[0:2] -> 0,1"
      ]
    },
    {
      "cell_type": "code",
      "execution_count": null,
      "metadata": {
        "id": "A7RCgbO5bSJN"
      },
      "outputs": [],
      "source": [
        "my_list[0:3] #0,1,2"
      ]
    },
    {
      "cell_type": "code",
      "source": [
        "len(my_list)"
      ],
      "metadata": {
        "id": "qlC-HjbLzKmQ"
      },
      "execution_count": null,
      "outputs": []
    },
    {
      "cell_type": "code",
      "source": [
        "my_list"
      ],
      "metadata": {
        "id": "By7588Y3zSv-"
      },
      "execution_count": null,
      "outputs": []
    },
    {
      "cell_type": "code",
      "execution_count": null,
      "metadata": {
        "id": "sAwbVOInvGnF"
      },
      "outputs": [],
      "source": [
        "# From 2 to 8th element -> If length is less than range, prints till last\n",
        "my_list[2:8]"
      ]
    },
    {
      "cell_type": "code",
      "execution_count": null,
      "metadata": {
        "id": "e6H9l4NlcF3i"
      },
      "outputs": [],
      "source": [
        "my_list"
      ]
    },
    {
      "cell_type": "code",
      "execution_count": null,
      "metadata": {
        "id": "mF1tBaTtswGh"
      },
      "outputs": [],
      "source": [
        "# [start:stop:step]\n",
        "\n",
        "#[::] -> :- default start(0), :- default stop(n) or len(list)"
      ]
    },
    {
      "cell_type": "code",
      "execution_count": null,
      "metadata": {
        "id": "6n3zamMTiclD"
      },
      "outputs": [],
      "source": [
        "#print(my_list[::])\n",
        "print(my_list[:3])"
      ]
    },
    {
      "cell_type": "code",
      "execution_count": null,
      "metadata": {
        "id": "VoMJLTMfjEbz"
      },
      "outputs": [],
      "source": [
        "my_list"
      ]
    },
    {
      "cell_type": "code",
      "execution_count": null,
      "metadata": {
        "id": "KYd5fIvvvGkz"
      },
      "outputs": [],
      "source": [
        "# To print the list from start with step\n",
        "#[start:stop:step]\n",
        "\n",
        "my_list[::2] # :-start, :-stop, 2-step\n"
      ]
    },
    {
      "cell_type": "code",
      "execution_count": null,
      "metadata": {
        "id": "U17FZh4GvGif"
      },
      "outputs": [],
      "source": [
        "# To print list from start no till end\n",
        "my_list[0:] # -> ::"
      ]
    },
    {
      "cell_type": "code",
      "execution_count": null,
      "metadata": {
        "id": "l5b7ZaS8P5F3"
      },
      "outputs": [],
      "source": [
        "# To print list from start no till end\n",
        "my_list[1:]"
      ]
    },
    {
      "cell_type": "code",
      "execution_count": null,
      "metadata": {
        "id": "2DPddd-FfJ5D"
      },
      "outputs": [],
      "source": [
        "lis = [0,1, 2, 3, 4, 5, 6, 7, 8]\n",
        "lis[::]"
      ]
    },
    {
      "cell_type": "code",
      "execution_count": null,
      "metadata": {
        "id": "eOckIAIx4ILm"
      },
      "outputs": [],
      "source": [
        "# To print entire list (start and end as default)\n",
        "my_list[::]"
      ]
    },
    {
      "cell_type": "code",
      "source": [],
      "metadata": {
        "id": "ZUAm2RM0pBB1"
      },
      "execution_count": null,
      "outputs": []
    },
    {
      "cell_type": "markdown",
      "metadata": {
        "id": "a5VmjqRF4NeV"
      },
      "source": [
        "### Negative slicing"
      ]
    },
    {
      "cell_type": "code",
      "source": [
        "a = ['A','B','C','D','E','F', 'G']\n",
        "a[-1]"
      ],
      "metadata": {
        "id": "l7TX56KGr6z4"
      },
      "execution_count": null,
      "outputs": []
    },
    {
      "cell_type": "code",
      "source": [
        "a[:-2]"
      ],
      "metadata": {
        "id": "eZybItx8sQO9"
      },
      "execution_count": null,
      "outputs": []
    },
    {
      "cell_type": "code",
      "source": [
        "basket = ['Mango', 'Apple', 'Banana', 'Kiwi', 'Grapes', 'Orange']\n",
        "# basket = [-6, -5, -4, -3, -2, -1]\n",
        "\n",
        "#basket[2:5] # 2, 3, 4 -> B, K, G\n",
        "#basket[2:] # 2, 3, 4, 5, --- end\n",
        "\n",
        "basket[:-2] # : -> 0, -2 -> Grapes"
      ],
      "metadata": {
        "id": "mGaRKFbnjZYP"
      },
      "execution_count": null,
      "outputs": []
    },
    {
      "cell_type": "code",
      "source": [
        "basket[-1:-5:1]"
      ],
      "metadata": {
        "id": "ccF-bGwnk4W-"
      },
      "execution_count": null,
      "outputs": []
    },
    {
      "cell_type": "code",
      "source": [
        "basket[-1:-5:-2]"
      ],
      "metadata": {
        "id": "DWCw45sBs4GX"
      },
      "execution_count": null,
      "outputs": []
    },
    {
      "cell_type": "code",
      "source": [
        "basket"
      ],
      "metadata": {
        "id": "-J0ST7i4lw1H"
      },
      "execution_count": null,
      "outputs": []
    },
    {
      "cell_type": "code",
      "execution_count": null,
      "metadata": {
        "id": "Z6HjYk1bxtAE"
      },
      "outputs": [],
      "source": [
        "# Slice from default start till predefined element from last\n",
        "basket[:-2] # -> 0 to -3"
      ]
    },
    {
      "cell_type": "code",
      "source": [
        "a = [10, 20, 30, 40, 50, 60, 70, 80]\n",
        "a[-1:-5:-2]"
      ],
      "metadata": {
        "id": "ZMQa3TTrfeyJ"
      },
      "execution_count": null,
      "outputs": []
    },
    {
      "cell_type": "code",
      "execution_count": null,
      "metadata": {
        "id": "VyH-UYh8FXDZ"
      },
      "outputs": [],
      "source": [
        "# Print elements from predefined start and predefined end in negative slice\n",
        "basket[-1:-4:-2]"
      ]
    },
    {
      "cell_type": "code",
      "execution_count": null,
      "metadata": {
        "id": "wmeTlCIeuIFo"
      },
      "outputs": [],
      "source": [
        "my_list"
      ]
    },
    {
      "cell_type": "code",
      "execution_count": null,
      "metadata": {
        "id": "a0M4IlJQFxsw"
      },
      "outputs": [],
      "source": [
        "# Print elements in reverse using slicing\n",
        "print(my_list[::2], ' - two steps forward')\n",
        "print(my_list[::-2], ' - two steps reverse')\n",
        "print(my_list[::-1], '- total reverse')"
      ]
    },
    {
      "cell_type": "code",
      "execution_count": null,
      "metadata": {
        "id": "ewSkXbqilfoR"
      },
      "outputs": [],
      "source": [
        "my_list = ['hello', 'world', 'India', 'Delhi', 'Bangalore']"
      ]
    },
    {
      "cell_type": "code",
      "execution_count": null,
      "metadata": {
        "id": "l7a8GznSxs5l"
      },
      "outputs": [],
      "source": [
        "# Print elements from reverse till predefined start\n",
        "#print(my_list[4:-4])\n",
        "print(my_list[4:-6:-2]) # recommended way\n",
        "print(my_list[4::-2])\n",
        "print(my_list[3::-3])"
      ]
    },
    {
      "cell_type": "markdown",
      "metadata": {
        "id": "HHrOLQZfGlR-"
      },
      "source": [
        "# Built-in functions in list"
      ]
    },
    {
      "cell_type": "markdown",
      "metadata": {
        "id": "yGq3ta0_vH5G"
      },
      "source": [
        "### Append\n",
        "\n",
        "Adding elements to the list at the end of list"
      ]
    },
    {
      "cell_type": "code",
      "execution_count": null,
      "metadata": {
        "id": "Ud0F1Xq5vKhP"
      },
      "outputs": [],
      "source": [
        "a = [1,2,3]\n",
        "a"
      ]
    },
    {
      "cell_type": "code",
      "execution_count": null,
      "metadata": {
        "id": "Y2OW3Y8uvGww"
      },
      "outputs": [],
      "source": [
        "a.append(5)\n",
        "a"
      ]
    },
    {
      "cell_type": "code",
      "execution_count": null,
      "metadata": {
        "id": "t1l-J6sLO1wf"
      },
      "outputs": [],
      "source": [
        "a = [1,2,3]\n",
        "a.append(4)\n",
        "a"
      ]
    },
    {
      "cell_type": "code",
      "execution_count": null,
      "metadata": {
        "id": "xmKkNSQUdecg"
      },
      "outputs": [],
      "source": [
        "b = [20, 30, 40]\n",
        "b.append(100, 200)\n",
        "b"
      ]
    },
    {
      "cell_type": "code",
      "source": [
        "a.append()"
      ],
      "metadata": {
        "id": "xW185bcxqB3l"
      },
      "execution_count": null,
      "outputs": []
    },
    {
      "cell_type": "code",
      "execution_count": null,
      "metadata": {
        "id": "0J1Fjraxduyj"
      },
      "outputs": [],
      "source": [
        "l = [10, 20, 30]\n",
        "l.append('These are numbers')\n",
        "print(l)"
      ]
    },
    {
      "cell_type": "code",
      "execution_count": null,
      "metadata": {
        "id": "g5PPgRC-ci4D",
        "collapsed": true
      },
      "outputs": [],
      "source": [
        "a = [\"apple\", \"banana\", \"cherry\"]\n",
        "a.append('Grapes')\n",
        "#print(a)\n",
        "\n",
        "b = [\"Ford\", \"BMW\", \"Volvo\"]\n",
        "a.append(b)\n",
        "\n",
        "print(a)"
      ]
    },
    {
      "cell_type": "markdown",
      "metadata": {
        "id": "g1wpyGRtyzkV"
      },
      "source": [
        "### pop"
      ]
    },
    {
      "cell_type": "code",
      "execution_count": null,
      "metadata": {
        "id": "yyt2RbgTygY9",
        "colab": {
          "base_uri": "https://localhost:8080/"
        },
        "outputId": "79eb3a13-528b-4f80-c34a-4cc076e407b8"
      },
      "outputs": [
        {
          "output_type": "execute_result",
          "data": {
            "text/plain": [
              "['hello', 'world', 'India', 4, 5]"
            ]
          },
          "metadata": {},
          "execution_count": 86
        }
      ],
      "source": [
        "my_list = ['hello','world','India',4,5]\n",
        "my_list"
      ]
    },
    {
      "cell_type": "code",
      "source": [
        "my_list.pop(2)\n",
        "print(my_list)"
      ],
      "metadata": {
        "id": "p_KUaKZ6vgRl",
        "colab": {
          "base_uri": "https://localhost:8080/"
        },
        "outputId": "12cf4c99-91bb-4ef4-85ff-7d836d58f12c"
      },
      "execution_count": null,
      "outputs": [
        {
          "output_type": "stream",
          "name": "stdout",
          "text": [
            "['hello', 'world', 4, 5]\n"
          ]
        }
      ]
    },
    {
      "cell_type": "code",
      "execution_count": null,
      "metadata": {
        "id": "OyvxuTmemg_J",
        "colab": {
          "base_uri": "https://localhost:8080/"
        },
        "outputId": "8b632e47-e428-4aba-9875-3bbc357eb10c"
      },
      "outputs": [
        {
          "output_type": "execute_result",
          "data": {
            "text/plain": [
              "['hello', 'world', 5]"
            ]
          },
          "metadata": {},
          "execution_count": 88
        }
      ],
      "source": [
        "my_list.pop(2)\n",
        "my_list"
      ]
    },
    {
      "cell_type": "code",
      "execution_count": null,
      "metadata": {
        "id": "gM2r9xGY0UcE"
      },
      "outputs": [],
      "source": [
        "my_list = ['hello','world','India',4,5]"
      ]
    },
    {
      "cell_type": "code",
      "execution_count": null,
      "metadata": {
        "id": "SrXD-tbIe9fg",
        "colab": {
          "base_uri": "https://localhost:8080/"
        },
        "outputId": "6dd84240-751c-4fa2-ec26-df1360efd81e"
      },
      "outputs": [
        {
          "output_type": "execute_result",
          "data": {
            "text/plain": [
              "['hello', 'world', 'India', 4]"
            ]
          },
          "metadata": {},
          "execution_count": 90
        }
      ],
      "source": [
        "my_list.pop() # Default, the last elemnt will be removed from the list.\n",
        "my_list"
      ]
    },
    {
      "cell_type": "markdown",
      "metadata": {
        "id": "qmukpvPf0wN7"
      },
      "source": [
        "### Extend"
      ]
    },
    {
      "cell_type": "code",
      "execution_count": null,
      "metadata": {
        "id": "dRtTZADlyw1R"
      },
      "outputs": [],
      "source": [
        "my_list = ['hello','world','India',4,5]\n",
        "my_list"
      ]
    },
    {
      "cell_type": "code",
      "execution_count": null,
      "metadata": {
        "id": "UKv8YKwsjFap"
      },
      "outputs": [],
      "source": [
        "my_list.append(34)\n",
        "my_list"
      ]
    },
    {
      "cell_type": "code",
      "execution_count": null,
      "metadata": {
        "id": "IFtXFklPfj-W"
      },
      "outputs": [],
      "source": [
        "my_list.extend(34)   # ([34])"
      ]
    },
    {
      "cell_type": "code",
      "execution_count": null,
      "metadata": {
        "id": "MfJ4k070jJMY"
      },
      "outputs": [],
      "source": [
        "my_list.extend([44])  #([44])"
      ]
    },
    {
      "cell_type": "code",
      "execution_count": null,
      "metadata": {
        "id": "uN14tMgpjdus"
      },
      "outputs": [],
      "source": [
        "my_list"
      ]
    },
    {
      "cell_type": "code",
      "execution_count": null,
      "metadata": {
        "id": "CNDlIN110kdg"
      },
      "outputs": [],
      "source": [
        "my_list.extend([55, 65, 75])\n",
        "my_list"
      ]
    },
    {
      "cell_type": "code",
      "source": [
        "a = [10, 20, 30, 40, 50]\n",
        "b = [1000, 2000]\n",
        "\n",
        "a.extend(b) #a.append(b)\n",
        "print(a)"
      ],
      "metadata": {
        "id": "tPFvngKMMUPp"
      },
      "execution_count": null,
      "outputs": []
    },
    {
      "cell_type": "code",
      "source": [],
      "metadata": {
        "id": "-R2WQTzCMT71"
      },
      "execution_count": null,
      "outputs": []
    },
    {
      "cell_type": "code",
      "execution_count": null,
      "metadata": {
        "id": "0Us_X7g00kYt"
      },
      "outputs": [],
      "source": [
        "my_list.extend([3, 'st'])"
      ]
    },
    {
      "cell_type": "code",
      "execution_count": null,
      "metadata": {
        "id": "L6rU3B2C1zMY"
      },
      "outputs": [],
      "source": [
        "my_list"
      ]
    },
    {
      "cell_type": "markdown",
      "metadata": {
        "id": "BFcExx2B17Q4"
      },
      "source": [
        "### Copy"
      ]
    },
    {
      "cell_type": "code",
      "execution_count": null,
      "metadata": {
        "id": "iV5_fVEyqIyS"
      },
      "outputs": [],
      "source": [
        "my_list = ['hello','world','India',4,5]\n",
        "my_list"
      ]
    },
    {
      "cell_type": "code",
      "execution_count": null,
      "metadata": {
        "id": "jo1PQhUG1zKb"
      },
      "outputs": [],
      "source": [
        "copied_list = my_list.copy()"
      ]
    },
    {
      "cell_type": "code",
      "execution_count": null,
      "metadata": {
        "id": "g2-h30RPj7WP"
      },
      "outputs": [],
      "source": [
        "copied_list"
      ]
    },
    {
      "cell_type": "code",
      "execution_count": null,
      "metadata": {
        "id": "xOF0GPIv21N4"
      },
      "outputs": [],
      "source": [
        "copied_list[0]"
      ]
    },
    {
      "cell_type": "markdown",
      "source": [
        "### List is Mutable"
      ],
      "metadata": {
        "id": "MSWAe7rEkQX9"
      }
    },
    {
      "cell_type": "code",
      "execution_count": null,
      "metadata": {
        "id": "glfO6oM6oTBB"
      },
      "outputs": [],
      "source": [
        "copied_list[0] = 55"
      ]
    },
    {
      "cell_type": "code",
      "execution_count": null,
      "metadata": {
        "id": "_SFFzhQ7oS7R"
      },
      "outputs": [],
      "source": [
        "copied_list"
      ]
    },
    {
      "cell_type": "code",
      "execution_count": null,
      "metadata": {
        "id": "PzDxISUjn4hS"
      },
      "outputs": [],
      "source": [
        "print(copied_list[1])"
      ]
    },
    {
      "cell_type": "code",
      "execution_count": null,
      "metadata": {
        "id": "9aSVtoM41zFO"
      },
      "outputs": [],
      "source": [
        "copied_list[1] = 'string'\n",
        "copied_list"
      ]
    },
    {
      "cell_type": "markdown",
      "metadata": {
        "id": "5krwvE42GBUH"
      },
      "source": [
        "### Index\n",
        "\n",
        "Index -> list.index(element, start, end)"
      ]
    },
    {
      "cell_type": "code",
      "execution_count": null,
      "metadata": {
        "id": "3Ea4vWP91zCy"
      },
      "outputs": [],
      "source": [
        "my_list"
      ]
    },
    {
      "cell_type": "code",
      "execution_count": null,
      "metadata": {
        "id": "FiiBzWt-2VHV"
      },
      "outputs": [],
      "source": [
        "my_list.index(345)"
      ]
    },
    {
      "cell_type": "code",
      "source": [
        "m = ['a', 10, 20, 30, 30, 40]\n",
        "m.index(30) # 4th position"
      ],
      "metadata": {
        "id": "rjtCDmxuzK9d"
      },
      "execution_count": null,
      "outputs": []
    },
    {
      "cell_type": "code",
      "execution_count": null,
      "metadata": {
        "id": "h2o2quW9qIMI"
      },
      "outputs": [],
      "source": [
        "my_list"
      ]
    },
    {
      "cell_type": "code",
      "execution_count": null,
      "metadata": {
        "id": "-8RQiHoy3odi"
      },
      "outputs": [],
      "source": [
        "my_list.index(4)"
      ]
    },
    {
      "cell_type": "code",
      "execution_count": null,
      "metadata": {
        "id": "RM-eL6gQ2VFx"
      },
      "outputs": [],
      "source": [
        "my_list.index('India', 1, len(my_list)) #(element, start, stop)"
      ]
    },
    {
      "cell_type": "code",
      "source": [
        "my_list"
      ],
      "metadata": {
        "id": "YAqwPl5V93_I"
      },
      "execution_count": null,
      "outputs": []
    },
    {
      "cell_type": "code",
      "source": [
        "my_list.index('world', 3, 5)"
      ],
      "metadata": {
        "id": "blqodvdo8NXt"
      },
      "execution_count": null,
      "outputs": []
    },
    {
      "cell_type": "code",
      "execution_count": null,
      "metadata": {
        "id": "p_tkzdj2kwDs"
      },
      "outputs": [],
      "source": [
        "my_list.index('hello', 0)"
      ]
    },
    {
      "cell_type": "code",
      "execution_count": null,
      "metadata": {
        "id": "Yt2fCK3I2_dE"
      },
      "outputs": [],
      "source": [
        "my_list"
      ]
    },
    {
      "cell_type": "code",
      "source": [],
      "metadata": {
        "id": "jIf_C2hBNWtB"
      },
      "execution_count": null,
      "outputs": []
    },
    {
      "cell_type": "markdown",
      "metadata": {
        "id": "zldF2D_rGFUb"
      },
      "source": [
        "### Insert\n",
        "\n",
        "Syntax:\n",
        "\n",
        "list.insert(index_position, element)"
      ]
    },
    {
      "cell_type": "code",
      "execution_count": null,
      "metadata": {
        "id": "LZJuPK5KqrOq"
      },
      "outputs": [],
      "source": [
        "my_list"
      ]
    },
    {
      "cell_type": "code",
      "execution_count": null,
      "metadata": {
        "id": "9JQu7a0W2VCD"
      },
      "outputs": [],
      "source": [
        "my_list.insert(0, 'welcome')"
      ]
    },
    {
      "cell_type": "code",
      "source": [
        "my_list"
      ],
      "metadata": {
        "id": "E9D1h0Lp8OyR"
      },
      "execution_count": null,
      "outputs": []
    },
    {
      "cell_type": "code",
      "execution_count": null,
      "metadata": {
        "id": "2ZeBNSKl23VI"
      },
      "outputs": [],
      "source": [
        "my_list.insert(2, 'Python')\n",
        "my_list"
      ]
    },
    {
      "cell_type": "markdown",
      "metadata": {
        "id": "1h-R_BP0GH3D"
      },
      "source": [
        "### Sort"
      ]
    },
    {
      "cell_type": "code",
      "execution_count": null,
      "metadata": {
        "id": "7VXd6Lwt23SY"
      },
      "outputs": [],
      "source": [
        "a = [1,23, 45, 6]"
      ]
    },
    {
      "cell_type": "code",
      "execution_count": null,
      "metadata": {
        "id": "Wy0vcAqb23QG"
      },
      "outputs": [],
      "source": [
        "a.sort()\n",
        "a"
      ]
    },
    {
      "cell_type": "code",
      "execution_count": null,
      "metadata": {
        "id": "wg3Y7mtP2U_v"
      },
      "outputs": [],
      "source": [
        "a.sort(reverse=True)\n",
        "a"
      ]
    },
    {
      "cell_type": "code",
      "execution_count": null,
      "metadata": {
        "id": "9f2BRhET2U9v"
      },
      "outputs": [],
      "source": [
        "s = ['Alpha', 'Beta', 'Algo', 'Enemy']\n",
        "s.sort(reverse=True)\n",
        "s"
      ]
    },
    {
      "cell_type": "code",
      "source": [],
      "metadata": {
        "id": "P9McdbuFNc4A"
      },
      "execution_count": null,
      "outputs": []
    },
    {
      "cell_type": "markdown",
      "metadata": {
        "id": "KEFxIyg54FAV"
      },
      "source": [
        "### List of list"
      ]
    },
    {
      "cell_type": "code",
      "source": [
        "a = [10, 20, 30, 40]\n",
        "a[2]"
      ],
      "metadata": {
        "id": "C3f7YL95NkYw"
      },
      "execution_count": null,
      "outputs": []
    },
    {
      "cell_type": "code",
      "source": [
        "a = [10, ['A', 'B', 'C'], 20, 30, [[40,20], 50]]\n",
        "\n",
        "a[4][0][1]"
      ],
      "metadata": {
        "id": "xn3ZDCVCfR9l"
      },
      "execution_count": null,
      "outputs": []
    },
    {
      "cell_type": "code",
      "source": [],
      "metadata": {
        "id": "2flP4rM0Nj9y"
      },
      "execution_count": null,
      "outputs": []
    },
    {
      "cell_type": "markdown",
      "metadata": {
        "id": "F6odpB4-u85P"
      },
      "source": [
        "# String and its functions"
      ]
    },
    {
      "cell_type": "code",
      "execution_count": null,
      "metadata": {
        "id": "catPx6zeu9lS"
      },
      "outputs": [],
      "source": [
        "# Creating a string using '',\"\",\"\"\""
      ]
    },
    {
      "cell_type": "code",
      "execution_count": null,
      "metadata": {
        "id": "EpD46pD300uJ"
      },
      "outputs": [],
      "source": [
        "a = 'I am taking Python tutorial'\n",
        "type(a)"
      ]
    },
    {
      "cell_type": "code",
      "execution_count": null,
      "metadata": {
        "id": "CVS1pIPBxPaS"
      },
      "outputs": [],
      "source": [
        "b = 'he oo%w3343'\n",
        "print(len(b))"
      ]
    },
    {
      "cell_type": "code",
      "execution_count": null,
      "metadata": {
        "id": "SeKeLCCst_jC"
      },
      "outputs": [],
      "source": [
        "print(a)\n",
        "print(len(a))"
      ]
    },
    {
      "cell_type": "code",
      "execution_count": null,
      "metadata": {
        "id": "jlt1U_Wf00r6"
      },
      "outputs": [],
      "source": [
        "a = \"I'm taking python course\"\n",
        "a"
      ]
    },
    {
      "cell_type": "code",
      "execution_count": null,
      "metadata": {
        "id": "AQQr-mGYjgYe"
      },
      "outputs": [],
      "source": [
        "b = 'Hello '\n",
        "print(len(b))"
      ]
    },
    {
      "cell_type": "markdown",
      "metadata": {
        "id": "z4yXHJAzGQRn"
      },
      "source": [
        "### Join\n",
        "\n",
        "Syntax -> 'Something to join'.join(list)\n",
        "\n",
        "Join works only for strings"
      ]
    },
    {
      "cell_type": "code",
      "execution_count": null,
      "metadata": {
        "id": "S_NYsedMrEX1"
      },
      "outputs": [],
      "source": [
        " #join -> ''.join(list_name)"
      ]
    },
    {
      "cell_type": "code",
      "execution_count": null,
      "metadata": {
        "id": "VPRXZKm1uQKr"
      },
      "outputs": [],
      "source": [
        "# Join\n",
        "a = [1,'list','tuple','dict']\n",
        "v = (' '.join(a))\n",
        "v"
      ]
    },
    {
      "cell_type": "code",
      "execution_count": null,
      "metadata": {
        "id": "L47IPSmruQIT"
      },
      "outputs": [],
      "source": [
        "# Join\n",
        "a = ['type','list','tuple','dict']\n",
        "v = ('10'.join(a))\n",
        "v"
      ]
    },
    {
      "cell_type": "code",
      "source": [
        "# Firstname middlename lastname\n",
        "a = ['Fn', 'Mn', 'Ln']\n",
        "v = ' '.join(a)\n",
        "v"
      ],
      "metadata": {
        "id": "2jPZe6j4SCbZ"
      },
      "execution_count": null,
      "outputs": []
    },
    {
      "cell_type": "markdown",
      "source": [
        "### Split Method"
      ],
      "metadata": {
        "id": "zbgjbBbT1Wei"
      }
    },
    {
      "cell_type": "code",
      "source": [
        "a = \"I'm taking python course\"\n",
        "a"
      ],
      "metadata": {
        "id": "c-RQb1s42Zbh"
      },
      "execution_count": null,
      "outputs": []
    },
    {
      "cell_type": "code",
      "execution_count": null,
      "metadata": {
        "id": "zSO9UmrOxbqy"
      },
      "outputs": [],
      "source": [
        "b = a.split()\n",
        "b"
      ]
    },
    {
      "cell_type": "code",
      "source": [
        "a = \"I'm taking python course\"\n",
        "a"
      ],
      "metadata": {
        "id": "vTGSw38_rU-B"
      },
      "execution_count": null,
      "outputs": []
    },
    {
      "cell_type": "code",
      "execution_count": null,
      "metadata": {
        "id": "AgTaWSG100pU"
      },
      "outputs": [],
      "source": [
        "# split method\n",
        "b = a.split('t')\n",
        "b"
      ]
    },
    {
      "cell_type": "code",
      "source": [
        "[] # empty list\n",
        "\n",
        "'' # empty string"
      ],
      "metadata": {
        "id": "uwKzyJMFQc8Y"
      },
      "execution_count": null,
      "outputs": []
    },
    {
      "cell_type": "code",
      "execution_count": null,
      "metadata": {
        "id": "lHSA3VufkO1u"
      },
      "outputs": [],
      "source": [
        "c = 'Hello'\n",
        "c =c.split('l')\n",
        "c"
      ]
    },
    {
      "cell_type": "code",
      "source": [
        "l = 'a      b'\n",
        "l.split(' ')"
      ],
      "metadata": {
        "id": "3dvFbZE8_FRo"
      },
      "execution_count": null,
      "outputs": []
    },
    {
      "cell_type": "code",
      "execution_count": null,
      "metadata": {
        "id": "6OR7wRbPud_l"
      },
      "outputs": [],
      "source": [
        "a = 'How are you?'\n",
        "a.split()"
      ]
    },
    {
      "cell_type": "code",
      "execution_count": null,
      "metadata": {
        "id": "yjfwEblMkhiC"
      },
      "outputs": [],
      "source": [
        "a = '10 20 30 40 50'\n",
        "res = a.split()\n",
        "res"
      ]
    },
    {
      "cell_type": "code",
      "execution_count": null,
      "metadata": {
        "id": "AxlPOqKklKjt"
      },
      "outputs": [],
      "source": [
        "print(type(a))\n",
        "print(type(res))"
      ]
    },
    {
      "cell_type": "code",
      "execution_count": null,
      "metadata": {
        "id": "ALASsxqIxMb1"
      },
      "outputs": [],
      "source": [
        "a = 'Helloworld'\n",
        "a[1:6] # 1, 2, 3, 4, 5"
      ]
    },
    {
      "cell_type": "code",
      "execution_count": null,
      "metadata": {
        "id": "F6QiEuWrxnr2"
      },
      "outputs": [],
      "source": [
        "s = [10,20,30,40,50]\n",
        "s.split()"
      ]
    },
    {
      "cell_type": "code",
      "execution_count": null,
      "metadata": {
        "id": "FmL7DvFcz800"
      },
      "outputs": [],
      "source": [
        "# Checking conditions"
      ]
    },
    {
      "cell_type": "code",
      "execution_count": null,
      "metadata": {
        "id": "pK5ZHc7Bld_y"
      },
      "outputs": [],
      "source": [
        "a = 'Hello'"
      ]
    },
    {
      "cell_type": "code",
      "execution_count": null,
      "metadata": {
        "id": "6kF1vqO0z8v5"
      },
      "outputs": [],
      "source": [
        "# is numeric\n",
        "a.isnumeric()"
      ]
    },
    {
      "cell_type": "code",
      "execution_count": null,
      "metadata": {
        "id": "A4ZH-EDuyqmS"
      },
      "outputs": [],
      "source": [
        "b = '123'\n",
        "b.isnumeric()"
      ]
    },
    {
      "cell_type": "code",
      "execution_count": null,
      "metadata": {
        "id": "rJHg8yH5z8tk"
      },
      "outputs": [],
      "source": [
        "a.isalpha()"
      ]
    },
    {
      "cell_type": "code",
      "execution_count": null,
      "metadata": {
        "id": "5XhBYhpj20VG"
      },
      "outputs": [],
      "source": [
        "a.endswith('o')"
      ]
    },
    {
      "cell_type": "code",
      "execution_count": null,
      "metadata": {
        "id": "0yTI93day7X1"
      },
      "outputs": [],
      "source": [
        "a"
      ]
    },
    {
      "cell_type": "code",
      "execution_count": null,
      "metadata": {
        "id": "If7POa6o4lzC"
      },
      "outputs": [],
      "source": [
        "# Count method\n",
        "a = 'helloo'\n",
        "a.count('o')"
      ]
    },
    {
      "cell_type": "code",
      "execution_count": null,
      "metadata": {
        "id": "E808qa3-4umn"
      },
      "outputs": [],
      "source": [
        "# Find method\n",
        "a.find('l')"
      ]
    },
    {
      "cell_type": "code",
      "source": [
        "a = ['H', 'e', 'l', 'o']\n",
        "a.index('l')"
      ],
      "metadata": {
        "id": "0xCVEjOcV8Cp"
      },
      "execution_count": null,
      "outputs": []
    },
    {
      "cell_type": "code",
      "execution_count": null,
      "metadata": {
        "id": "YP1owF72vveL"
      },
      "outputs": [],
      "source": [
        "# list.index() -> For index position in list\n",
        "# string.find() -> For index position in string"
      ]
    },
    {
      "cell_type": "markdown",
      "metadata": {
        "id": "76ebMcW_z0f4"
      },
      "source": [
        "# Dictionaries"
      ]
    },
    {
      "cell_type": "markdown",
      "metadata": {
        "id": "Im5KMpEwz2LP"
      },
      "source": [
        "Dict works with key value pair.\n",
        "\n",
        "Dict methods"
      ]
    },
    {
      "cell_type": "code",
      "execution_count": null,
      "metadata": {
        "id": "8CAiLf0hz1yD"
      },
      "outputs": [],
      "source": [
        "a = {}\n",
        "type(a)"
      ]
    },
    {
      "cell_type": "code",
      "source": [],
      "metadata": {
        "id": "W_iZ0pZZXu5e"
      },
      "execution_count": null,
      "outputs": []
    },
    {
      "cell_type": "code",
      "execution_count": null,
      "metadata": {
        "id": "oFN9p93YvUcO"
      },
      "outputs": [],
      "source": [
        "a = {'Name': 'Bangalore', 'Place': 'Bangalore', 'Students': 7, 'Day': 'Monday'}\n",
        "a"
      ]
    },
    {
      "cell_type": "code",
      "execution_count": null,
      "metadata": {
        "id": "6sHl1bS0z681"
      },
      "outputs": [],
      "source": [
        "a = {'Name': 'Bangalore', 'Place': 'Bangalore', 'Students': 7, 'Days': ['Monday', 'Wednesday']}\n",
        "a"
      ]
    },
    {
      "cell_type": "code",
      "execution_count": null,
      "metadata": {
        "id": "1v8G4Fd3nvKA"
      },
      "outputs": [],
      "source": [
        "a.keys()"
      ]
    },
    {
      "cell_type": "code",
      "execution_count": null,
      "metadata": {
        "id": "_jNfNZornvFS"
      },
      "outputs": [],
      "source": [
        "a.values()"
      ]
    },
    {
      "cell_type": "code",
      "execution_count": null,
      "metadata": {
        "id": "pqSwXGpkoWDT"
      },
      "outputs": [],
      "source": [
        "a.items()"
      ]
    },
    {
      "cell_type": "code",
      "execution_count": null,
      "metadata": {
        "id": "CTI9xN3YcQM-"
      },
      "outputs": [],
      "source": [
        "print(a.keys(), a.values())\n",
        "print(a.items())"
      ]
    },
    {
      "cell_type": "code",
      "execution_count": null,
      "metadata": {
        "id": "TTiMvrqscL5E"
      },
      "outputs": [],
      "source": [
        "# items\n",
        "# keys\n",
        "# values"
      ]
    },
    {
      "cell_type": "code",
      "execution_count": null,
      "metadata": {
        "id": "SxqROwt9ovQ5"
      },
      "outputs": [],
      "source": [
        "a"
      ]
    },
    {
      "cell_type": "code",
      "source": [
        "b = a.keys()"
      ],
      "metadata": {
        "id": "1VK6xEW9VaD0"
      },
      "execution_count": null,
      "outputs": []
    },
    {
      "cell_type": "code",
      "execution_count": null,
      "metadata": {
        "id": "zwQfLu2Gxubm"
      },
      "outputs": [],
      "source": [
        "# List\n",
        "\n",
        "lis = [10, 20, 30, 40]\n",
        "print(lis[1]) # Index position\n",
        "\n",
        "\n",
        "# Dict\n",
        "\n",
        "d = {'Name': 'Bangalore', 'Place': 'Bangalore', 'Students': 7, 'Days': ['Monday', 'Wednesday']}\n",
        "print(d['Name']) # give keys to get value\n"
      ]
    },
    {
      "cell_type": "code",
      "source": [],
      "metadata": {
        "id": "cJpRt5BGWHPg"
      },
      "execution_count": null,
      "outputs": []
    },
    {
      "cell_type": "code",
      "execution_count": null,
      "metadata": {
        "id": "ZMdIliACSYAl"
      },
      "outputs": [],
      "source": [
        "print(d['Days'])"
      ]
    },
    {
      "cell_type": "code",
      "execution_count": null,
      "metadata": {
        "id": "GeuEK48dpA5Q"
      },
      "outputs": [],
      "source": [
        "print(d['Days'])\n",
        "print(d['Days'][1])"
      ]
    },
    {
      "cell_type": "code",
      "execution_count": null,
      "metadata": {
        "id": "WChebx4J1z6Z"
      },
      "outputs": [],
      "source": [
        "a.values()"
      ]
    },
    {
      "cell_type": "code",
      "source": [
        "h = a.values()\n",
        "h[0]"
      ],
      "metadata": {
        "id": "V6BgAikQDwMv"
      },
      "execution_count": null,
      "outputs": []
    },
    {
      "cell_type": "code",
      "execution_count": null,
      "metadata": {
        "id": "MD4gXocv6xOE"
      },
      "outputs": [],
      "source": [
        "b = list(a.values())\n",
        "b"
      ]
    },
    {
      "cell_type": "code",
      "source": [
        "d = {'Name': 'Bangalore', 'Place': 'Online'}\n",
        "list(d.keys())"
      ],
      "metadata": {
        "id": "Q1byrt8pXpLS"
      },
      "execution_count": null,
      "outputs": []
    },
    {
      "cell_type": "code",
      "source": [
        "b = a.values()\n",
        "b"
      ],
      "metadata": {
        "id": "xZ5Hi279XmZJ"
      },
      "execution_count": null,
      "outputs": []
    },
    {
      "cell_type": "code",
      "execution_count": null,
      "metadata": {
        "id": "rJZ51emm7Pfy"
      },
      "outputs": [],
      "source": [
        "b[3][0]"
      ]
    },
    {
      "cell_type": "code",
      "execution_count": null,
      "metadata": {
        "id": "usIXZwm9z64s"
      },
      "outputs": [],
      "source": [
        "b = list(a.keys())[1]\n",
        "b"
      ]
    },
    {
      "cell_type": "code",
      "source": [
        "d = {'Location':{'sub-location':'North bangalore'}}\n",
        "\n",
        "d['Location']"
      ],
      "metadata": {
        "id": "hGxHiSKezF1g"
      },
      "execution_count": null,
      "outputs": []
    },
    {
      "cell_type": "code",
      "execution_count": null,
      "metadata": {
        "id": "zep0b3qWqqsj"
      },
      "outputs": [],
      "source": [
        "res = {46:{'key':{'Hello':'Values'}}}\n",
        "\n",
        "# Values\n",
        "res[46]['key']['Hello']"
      ]
    },
    {
      "cell_type": "code",
      "execution_count": null,
      "metadata": {
        "id": "cxQpJ6TB2HV0"
      },
      "outputs": [],
      "source": [
        "print(res[46])\n",
        "print(res[46]['key'])\n",
        "print(res[46]['key']['Hello'])"
      ]
    },
    {
      "cell_type": "code",
      "execution_count": null,
      "metadata": {
        "id": "Qpvw3zAIUKqy"
      },
      "outputs": [],
      "source": [
        "res[46]['key']['Hello']"
      ]
    },
    {
      "cell_type": "code",
      "execution_count": null,
      "metadata": {
        "id": "LHn6vZNwz62h"
      },
      "outputs": [],
      "source": [
        "a = {'Lilly':45,\n",
        "     'Jasmine':56,\n",
        "     46:{'key':{'Hello':'Values'}},\n",
        "     45:65}"
      ]
    },
    {
      "cell_type": "code",
      "execution_count": null,
      "metadata": {
        "id": "S6B4jPy8qH9r"
      },
      "outputs": [],
      "source": [
        "b = {[45, 35]: 'Helo'}\n",
        "b"
      ]
    },
    {
      "cell_type": "markdown",
      "source": [
        "### Inserting into dictionary"
      ],
      "metadata": {
        "id": "U1fgLuFdw3z2"
      }
    },
    {
      "cell_type": "code",
      "source": [
        "d = {}"
      ],
      "metadata": {
        "id": "OWBjB73Pw2yX"
      },
      "execution_count": null,
      "outputs": []
    },
    {
      "cell_type": "code",
      "source": [
        "# d[key] = Value"
      ],
      "metadata": {
        "id": "FpBLGGACZRFx"
      },
      "execution_count": null,
      "outputs": []
    },
    {
      "cell_type": "code",
      "source": [
        "d['Places'] = 'Bangalore'\n",
        "print(d)"
      ],
      "metadata": {
        "id": "TCxbf-Dkw-OI"
      },
      "execution_count": null,
      "outputs": []
    },
    {
      "cell_type": "code",
      "source": [
        "d['Time'] = '7.00AM'\n",
        "d"
      ],
      "metadata": {
        "id": "Tgz7uqtPw-L_"
      },
      "execution_count": null,
      "outputs": []
    },
    {
      "cell_type": "code",
      "source": [
        "d['Place'] = 'Chennai'\n",
        "d"
      ],
      "metadata": {
        "id": "2fNrmVg40oJO"
      },
      "execution_count": null,
      "outputs": []
    },
    {
      "cell_type": "code",
      "source": [
        "d"
      ],
      "metadata": {
        "id": "DbTx2n14X29e"
      },
      "execution_count": null,
      "outputs": []
    },
    {
      "cell_type": "code",
      "source": [
        "d['emp'] = 'ban'\n",
        "d"
      ],
      "metadata": {
        "id": "XXkchqDQYbEz"
      },
      "execution_count": null,
      "outputs": []
    },
    {
      "cell_type": "code",
      "source": [
        "d"
      ],
      "metadata": {
        "id": "8quu94YWY2fo"
      },
      "execution_count": null,
      "outputs": []
    },
    {
      "cell_type": "code",
      "source": [
        "d['Places']"
      ],
      "metadata": {
        "id": "GQcHp08xY330"
      },
      "execution_count": null,
      "outputs": []
    },
    {
      "cell_type": "code",
      "source": [
        "d.get('Places')"
      ],
      "metadata": {
        "id": "teFU9pgiY5mE"
      },
      "execution_count": null,
      "outputs": []
    },
    {
      "cell_type": "code",
      "source": [
        "d.pop('Places')\n",
        "print(d)"
      ],
      "metadata": {
        "id": "HQw-eOhUZQhh"
      },
      "execution_count": null,
      "outputs": []
    },
    {
      "cell_type": "code",
      "source": [
        "d['Keyy'] = 100"
      ],
      "metadata": {
        "id": "-B7gazLAZlz6"
      },
      "execution_count": null,
      "outputs": []
    },
    {
      "cell_type": "code",
      "source": [
        "# Same thing to get element from dictionary ->>  d['Time'] or d.get('Time')"
      ],
      "metadata": {
        "id": "ZcEU9nlXcJsZ"
      },
      "execution_count": null,
      "outputs": []
    },
    {
      "cell_type": "markdown",
      "metadata": {
        "id": "1y9IeGx8z7YZ"
      },
      "source": [
        "# Tuple"
      ]
    },
    {
      "cell_type": "code",
      "execution_count": null,
      "metadata": {
        "id": "7Tewag2mz8BG"
      },
      "outputs": [],
      "source": [
        "# List -> a=[]\n",
        "a = ()\n",
        "type(a)"
      ]
    },
    {
      "cell_type": "code",
      "execution_count": null,
      "metadata": {
        "id": "7sIsKStX0Zoi"
      },
      "outputs": [],
      "source": [
        "a = (1, 2, 3, 4)\n",
        "a"
      ]
    },
    {
      "cell_type": "code",
      "execution_count": null,
      "metadata": {
        "id": "UgLRZgb2hbp2"
      },
      "outputs": [],
      "source": [
        "b = (13,) # For single element\n",
        "b"
      ]
    },
    {
      "cell_type": "code",
      "source": [
        "a = (10, 20, 30, 40)\n",
        "\n",
        "#a[index_position] ->list and tuple\n",
        "#a[Key] -> Dictionary"
      ],
      "metadata": {
        "id": "iiGeNXScj9Qx"
      },
      "execution_count": null,
      "outputs": []
    },
    {
      "cell_type": "code",
      "source": [
        "a[2]"
      ],
      "metadata": {
        "id": "_rvLf2iUaM-y"
      },
      "execution_count": null,
      "outputs": []
    },
    {
      "cell_type": "code",
      "execution_count": null,
      "metadata": {
        "id": "DHyrPcG05O2X"
      },
      "outputs": [],
      "source": [
        "# List -> Mutable -> Able to mutate\n",
        "b = [1,2, 3, 4]\n",
        "b[0] = 5\n",
        "b"
      ]
    },
    {
      "cell_type": "code",
      "execution_count": null,
      "metadata": {
        "id": "b64rJZmFrq3T"
      },
      "outputs": [],
      "source": [
        "# Tuple -> Unmutable\n",
        "b = (1, 2, 3, 4)\n",
        "b[0] = 5\n",
        "b"
      ]
    },
    {
      "cell_type": "code",
      "execution_count": null,
      "metadata": {
        "id": "28Fsau9E0aXC"
      },
      "outputs": [],
      "source": [
        "a = (1, 2, 3, 4)\n",
        "a[0] # Index position"
      ]
    },
    {
      "cell_type": "code",
      "source": [
        "#dict_keys([])"
      ],
      "metadata": {
        "id": "elNiSLOxdhsR"
      },
      "execution_count": null,
      "outputs": []
    },
    {
      "cell_type": "code",
      "execution_count": null,
      "metadata": {
        "id": "4X0KXiu70aU7"
      },
      "outputs": [],
      "source": [
        "# Convert tuple to list\n",
        "a = list(a)\n",
        "a"
      ]
    },
    {
      "cell_type": "code",
      "execution_count": null,
      "metadata": {
        "id": "JQG8A5Cj0Vdh"
      },
      "outputs": [],
      "source": [
        "a = (1,2 ,3 ,4)\n",
        "a.index(2)"
      ]
    },
    {
      "cell_type": "code",
      "source": [
        "b = (10, 20, 10, 10, 30)\n",
        "b.count(10)"
      ],
      "metadata": {
        "id": "iwabRcb2GPpi"
      },
      "execution_count": null,
      "outputs": []
    },
    {
      "cell_type": "code",
      "source": [],
      "metadata": {
        "id": "g1ss6F1b16iU"
      },
      "execution_count": null,
      "outputs": []
    },
    {
      "cell_type": "markdown",
      "metadata": {
        "id": "ui9Hvcp-5Jnx"
      },
      "source": [
        "# Sets\n",
        "\n",
        "Set is unordered collection of unique elements (Does not contain duplicate elements). Sets are mutable, change elements with built-in functions like add(), remove() etc. Represented by {} or set().\n",
        "\n",
        "\n"
      ]
    },
    {
      "cell_type": "code",
      "source": [
        "#a = {key:value} # Dictionary has a key value pair\n",
        "#a = {1, 2, 3} # Set is a comma seperated value"
      ],
      "metadata": {
        "id": "dgjLqBs0eOeA"
      },
      "execution_count": null,
      "outputs": []
    },
    {
      "cell_type": "markdown",
      "metadata": {
        "id": "NhJpA16bT9ZU"
      },
      "source": [
        "#### Sets\n",
        "\n",
        "a = set()\n",
        "a = {}"
      ]
    },
    {
      "cell_type": "code",
      "execution_count": null,
      "metadata": {
        "id": "sQfJW0sMbtfk"
      },
      "outputs": [],
      "source": [
        "fruits = {\"Apple\", \"Banana\", \"Cherry\", \"Apple\", \"Kiwi\", \"Mango\"}\n",
        "\n",
        "print(set(fruits))"
      ]
    },
    {
      "cell_type": "code",
      "execution_count": null,
      "metadata": {
        "id": "xDHRKbarb9g7"
      },
      "outputs": [],
      "source": [
        "fruits.add(\"Orange\")\n",
        "print(set(fruits))"
      ]
    },
    {
      "cell_type": "code",
      "execution_count": null,
      "metadata": {
        "id": "sPck2P9-cTBV"
      },
      "outputs": [],
      "source": [
        "fruits.remove(\"Banana\")\n",
        "print('Banana in fruits:', \"Banana\" in fruits)\n",
        "print(set(fruits))"
      ]
    },
    {
      "cell_type": "code",
      "execution_count": null,
      "metadata": {
        "id": "GCnsrMh7jPyk"
      },
      "outputs": [],
      "source": [
        "fruits.remove('Banana') # Throws error if not present\n",
        "#fruits.discard('Banana') # Does not throw error even if banana not present"
      ]
    },
    {
      "cell_type": "code",
      "execution_count": null,
      "metadata": {
        "id": "BhaXBub4cVnE"
      },
      "outputs": [],
      "source": [
        "fruits.discard(\"Banana\") # If it is not present, I will discard your statement and does not throw error.\n",
        "fruits"
      ]
    },
    {
      "cell_type": "code",
      "execution_count": null,
      "metadata": {
        "id": "6XCHVlw65JNl"
      },
      "outputs": [],
      "source": [
        "fruits = {\"Apple\", \"Banana\", \"Cherry\", \"Apple\", \"Kiwi\"}\n",
        "print(set(fruits))\n",
        "\n",
        "# Add new fruits\n",
        "fruits.add(\"Orange\")\n",
        "print(set(fruits))\n",
        "\n",
        "# Remove fruit\n",
        "fruits.remove(\"Banana\")\n",
        "print(set(fruits))\n",
        "\n",
        "# discard function -> Return none unlike remove which raise error\n",
        "\n",
        "fruits.discard(\"Banana\")\n",
        "fruits.discard(\"Kiwi\")\n",
        "print(set(fruits))\n",
        "\n",
        "#fruits.remove(\"Banana\")"
      ]
    },
    {
      "cell_type": "markdown",
      "metadata": {
        "id": "sxuyWGMNadnI"
      },
      "source": [
        "#FORMATTING"
      ]
    },
    {
      "cell_type": "code",
      "execution_count": null,
      "metadata": {
        "id": "fzQUQc_6sZ6f"
      },
      "outputs": [],
      "source": [
        "s = 'bangalore'\n",
        "print(s)"
      ]
    },
    {
      "cell_type": "code",
      "execution_count": null,
      "metadata": {
        "id": "Ocx3kCaL3etk"
      },
      "outputs": [],
      "source": [
        "a = 'delhi'\n",
        "\n",
        "print('Hello my place is', a)"
      ]
    },
    {
      "cell_type": "code",
      "execution_count": null,
      "metadata": {
        "id": "qYEaAQADadnJ"
      },
      "outputs": [],
      "source": [
        "a = 60\n",
        "print('The value of', str(a),' is ' + str(a))"
      ]
    },
    {
      "cell_type": "code",
      "execution_count": null,
      "metadata": {
        "id": "3iWuNM2FadnJ"
      },
      "outputs": [],
      "source": [
        "a = 52\n",
        "print('The value of a is', a)"
      ]
    },
    {
      "cell_type": "markdown",
      "metadata": {
        "id": "5IO_xLSKav0h"
      },
      "source": [
        "Two types of formatting\n",
        "1. Using 'f'\n",
        "2. Using format"
      ]
    },
    {
      "cell_type": "code",
      "execution_count": null,
      "metadata": {
        "id": "Gz91yZ4XtGEg"
      },
      "outputs": [],
      "source": [
        "a = 'Chennai'\n",
        "b = 'Delhi'\n",
        "\n",
        "print(f'My place is {a} and {b}, these are clean cities')\n"
      ]
    },
    {
      "cell_type": "code",
      "source": [
        "a = 'Bangalore'\n",
        "b = 'Delhi'\n",
        "print('My place is', a + ' and ' + b + ' my city is clean')"
      ],
      "metadata": {
        "id": "YBgXzhJI57ie"
      },
      "execution_count": null,
      "outputs": []
    },
    {
      "cell_type": "code",
      "execution_count": null,
      "metadata": {
        "id": "AbDcXdpv37Pa"
      },
      "outputs": [],
      "source": [
        "# Format method -> Using format keyword\n",
        "a = 'bangalore'\n",
        "b = 'delhi'\n",
        "c = 'Chennai'\n",
        "\n",
        "print('I like these cities in India, they are {}, {}, {}'.format(a,b,c))"
      ]
    },
    {
      "cell_type": "code",
      "execution_count": null,
      "metadata": {
        "id": "UeHXuz-yadnK"
      },
      "outputs": [],
      "source": [
        "#formatted in string\n",
        "a = 55\n",
        "b = 75\n",
        "print(f'{a} is the right value and {b} is not the right value')"
      ]
    },
    {
      "cell_type": "code",
      "execution_count": null,
      "metadata": {
        "collapsed": true,
        "id": "LuN-B5cnadnK"
      },
      "outputs": [],
      "source": [
        "b = 75\n",
        "print('the {} is the right {} value'.format(a,b))"
      ]
    },
    {
      "cell_type": "code",
      "execution_count": null,
      "metadata": {
        "collapsed": true,
        "id": "iMHa3icFadnK"
      },
      "outputs": [],
      "source": [
        "b = 75\n",
        "print('the {} is the right {} value'.format(b,a)) # a,b is called as an positional arguments"
      ]
    },
    {
      "cell_type": "markdown",
      "metadata": {
        "id": "Ns619AvHX0lC"
      },
      "source": [
        "#### Round"
      ]
    },
    {
      "cell_type": "code",
      "source": [
        "2.3+3.4"
      ],
      "metadata": {
        "id": "O27Ov7NoIW9I"
      },
      "execution_count": null,
      "outputs": []
    },
    {
      "cell_type": "code",
      "execution_count": null,
      "metadata": {
        "id": "mflyofb9X3gt"
      },
      "outputs": [],
      "source": [
        "a = 10/3\n",
        "a"
      ]
    },
    {
      "cell_type": "code",
      "execution_count": null,
      "metadata": {
        "id": "_SwauBxyXyTh"
      },
      "outputs": [],
      "source": [
        "print(round(a)) # < 0.5 , > 0.5"
      ]
    },
    {
      "cell_type": "code",
      "execution_count": null,
      "metadata": {
        "id": "8WI7-hpFX5cG"
      },
      "outputs": [],
      "source": [
        "print(round(a, 3))"
      ]
    },
    {
      "cell_type": "code",
      "execution_count": null,
      "metadata": {
        "id": "GIE4h9VjadnL"
      },
      "outputs": [],
      "source": [
        "print('{:.3f} is the right value'.format(a))"
      ]
    },
    {
      "cell_type": "code",
      "execution_count": null,
      "metadata": {
        "id": "O13OOD1aadnL"
      },
      "outputs": [],
      "source": [
        "round(a,4)"
      ]
    },
    {
      "cell_type": "markdown",
      "metadata": {
        "id": "Z5TzwInSadnM"
      },
      "source": [
        "#### floor\n",
        "#### 1. will change/ reduce absolute 3.9"
      ]
    },
    {
      "cell_type": "code",
      "execution_count": null,
      "metadata": {
        "id": "LKtfZQZsbHUs"
      },
      "outputs": [],
      "source": [
        "import math"
      ]
    },
    {
      "cell_type": "code",
      "execution_count": null,
      "metadata": {
        "id": "olX_7F8jadnM"
      },
      "outputs": [],
      "source": [
        "a = 3.99999\n",
        "print(math.floor(a))\n",
        "print(round(a))"
      ]
    },
    {
      "cell_type": "code",
      "execution_count": null,
      "metadata": {
        "collapsed": true,
        "id": "VmgJwQKBadnN"
      },
      "outputs": [],
      "source": [
        "#### ceil\n",
        "#### 1. will change/ increase absolute 3.9"
      ]
    },
    {
      "cell_type": "code",
      "execution_count": null,
      "metadata": {
        "id": "lfNIZSy3adnN"
      },
      "outputs": [],
      "source": [
        "a = 3.00001\n",
        "math.ceil(a)"
      ]
    },
    {
      "cell_type": "code",
      "execution_count": null,
      "metadata": {
        "id": "KWa1mm60adnN"
      },
      "outputs": [],
      "source": [
        "a = 4.0999\n",
        "print(math.ceil(a)) # increment a value to absolute number\n",
        "print(math.floor(a))# decrement a value to absolute number\n",
        "print(round(a))# when a number is greater than or equal to 0.5 it will increment or it will decrement"
      ]
    },
    {
      "cell_type": "code",
      "execution_count": null,
      "metadata": {
        "collapsed": true,
        "id": "LKB4fMoSadnO"
      },
      "outputs": [],
      "source": [
        "a = 4.499999\n",
        "round(a)"
      ]
    },
    {
      "cell_type": "code",
      "execution_count": null,
      "metadata": {
        "collapsed": true,
        "id": "5WkcIIYPadnO"
      },
      "outputs": [],
      "source": [
        "a = 10/2\n",
        "round(a,5) # can only decrement the decimal places"
      ]
    },
    {
      "cell_type": "code",
      "execution_count": null,
      "metadata": {
        "collapsed": true,
        "id": "OcMr2vc4adnO"
      },
      "outputs": [],
      "source": [
        "a = 4.5486"
      ]
    },
    {
      "cell_type": "code",
      "execution_count": null,
      "metadata": {
        "collapsed": true,
        "id": "nnULinT9adnO"
      },
      "outputs": [],
      "source": [
        "print('the {:.3f} is the right value'.format(a))"
      ]
    },
    {
      "cell_type": "markdown",
      "metadata": {
        "id": "5k1Rg5woZbdF"
      },
      "source": [
        "##### Next line print and tab print"
      ]
    },
    {
      "cell_type": "code",
      "execution_count": null,
      "metadata": {
        "collapsed": true,
        "id": "gwjpr2V0adnP"
      },
      "outputs": [],
      "source": [
        "print('Hi this is the world\\nHi there')"
      ]
    },
    {
      "cell_type": "code",
      "execution_count": null,
      "metadata": {
        "collapsed": true,
        "id": "-3Bf8Nl3adnP"
      },
      "outputs": [],
      "source": [
        "print('Hi this is world \\n Hi there')# \\n next line"
      ]
    },
    {
      "cell_type": "code",
      "execution_count": null,
      "metadata": {
        "collapsed": true,
        "id": "T1ueUYXeadnP"
      },
      "outputs": [],
      "source": [
        "print('Hi this is world\\t\\tHi there') # \\t tab seperated"
      ]
    },
    {
      "cell_type": "markdown",
      "metadata": {
        "id": "Ha5CFfsbbPty"
      },
      "source": [
        "# Input"
      ]
    },
    {
      "cell_type": "code",
      "source": [
        "b = input()"
      ],
      "metadata": {
        "id": "nB0PeC5KPv9w"
      },
      "execution_count": null,
      "outputs": []
    },
    {
      "cell_type": "code",
      "execution_count": null,
      "metadata": {
        "id": "vBFrNvwzbRS4"
      },
      "outputs": [],
      "source": [
        "a = input() # int(input())\n",
        "type(a)"
      ]
    },
    {
      "cell_type": "code",
      "execution_count": null,
      "metadata": {
        "id": "f2bmBGAAf4JZ"
      },
      "outputs": [],
      "source": [
        "a = int(input())\n",
        "type(a)"
      ]
    },
    {
      "cell_type": "code",
      "execution_count": null,
      "metadata": {
        "id": "dg_49rio9BRU"
      },
      "outputs": [],
      "source": [
        "a = float(input())\n",
        "a"
      ]
    },
    {
      "cell_type": "code",
      "execution_count": null,
      "metadata": {
        "id": "0R0P2tO19BPS"
      },
      "outputs": [],
      "source": [
        "a = input()\n",
        "a"
      ]
    },
    {
      "cell_type": "code",
      "source": [
        "a = a.split()\n",
        "print(a)"
      ],
      "metadata": {
        "id": "4gKvc31aRgrn"
      },
      "execution_count": null,
      "outputs": []
    },
    {
      "cell_type": "code",
      "source": [
        "a[0] = int(a[0])\n",
        "a[1] = int(a[1])\n",
        "a[2] = int(a[2])\n",
        "print(a)"
      ],
      "metadata": {
        "id": "ch4mHiyYfrLu"
      },
      "execution_count": null,
      "outputs": []
    },
    {
      "cell_type": "code",
      "source": [
        "# Map function\n",
        "# syntax -> map(function, list)\n",
        "a = '10 20 30 40'\n",
        "a = a.split() #['10', '20'...]\n",
        "\n",
        "print(list(map(int, a)))"
      ],
      "metadata": {
        "id": "nTwO4DFdRj_m"
      },
      "execution_count": null,
      "outputs": []
    },
    {
      "cell_type": "code",
      "execution_count": null,
      "metadata": {
        "id": "-n9bKyJOeafl"
      },
      "outputs": [],
      "source": [
        "a = '5 10 15 20'\n",
        "a = a.split()\n",
        "a = list(map(int, a))\n",
        "a"
      ]
    },
    {
      "cell_type": "markdown",
      "metadata": {
        "id": "jThSDkkfnln0"
      },
      "source": [
        "map(fun, iter) fun-> function, iter-> variables"
      ]
    },
    {
      "cell_type": "code",
      "source": [
        "a = '5 10 15 20'"
      ],
      "metadata": {
        "id": "ceuG-u1DL9gf"
      },
      "execution_count": null,
      "outputs": []
    },
    {
      "cell_type": "code",
      "execution_count": null,
      "metadata": {
        "id": "ndXYNIKl9BK8"
      },
      "outputs": [],
      "source": [
        "a = a.split()\n",
        "b = map(int, a)\n",
        "print(b)\n",
        "print(list(b))"
      ]
    },
    {
      "cell_type": "code",
      "execution_count": null,
      "metadata": {
        "id": "nqu_tHLTxjE7"
      },
      "outputs": [],
      "source": [
        "a = input()\n",
        "a = a.split()\n",
        "b = map(int, a)\n",
        "b = list(b)\n",
        "b"
      ]
    },
    {
      "cell_type": "code",
      "source": [
        "result = list(map(int, input().split()))\n",
        "result"
      ],
      "metadata": {
        "id": "rSBxwL-mhJ8I"
      },
      "execution_count": null,
      "outputs": []
    },
    {
      "cell_type": "code",
      "execution_count": null,
      "metadata": {
        "id": "g6wTawIVn8Ve"
      },
      "outputs": [],
      "source": [
        "a = list(map(int, input().split()))\n",
        "a"
      ]
    },
    {
      "cell_type": "code",
      "execution_count": null,
      "metadata": {
        "id": "CSpiQA9k-h1_"
      },
      "outputs": [],
      "source": [
        "a = list(map(int, input().split()))\n",
        "a"
      ]
    },
    {
      "cell_type": "markdown",
      "metadata": {
        "id": "sQuP_pcObgHx"
      },
      "source": [
        "Map function and input\n",
        "\n",
        "map(fun, iter) fun-> function, iter-> variables"
      ]
    },
    {
      "cell_type": "code",
      "execution_count": null,
      "metadata": {
        "id": "BFipdrOFbhZ8"
      },
      "outputs": [],
      "source": [
        "#map(fun, iter) fun-> function, iter-> variables"
      ]
    },
    {
      "cell_type": "code",
      "execution_count": null,
      "metadata": {
        "id": "VtTYG4wHhGqS"
      },
      "outputs": [],
      "source": [
        "str_nums = [\"4\", \"8\", \"6\", \"5\", \"3\", \"2\", \"8\", \"9\", \"2\", \"5\"]\n",
        "\n",
        "float_nums = map(float, str_nums)\n",
        "print(list(float_nums))"
      ]
    },
    {
      "cell_type": "code",
      "execution_count": null,
      "metadata": {
        "id": "s9jgxfkIhPML"
      },
      "outputs": [],
      "source": [
        "# input = 10 20 30 40\n",
        "# sum of all = 100\n",
        "\n",
        "a = list(map(int, input().split()))\n",
        "print(a)\n"
      ]
    },
    {
      "cell_type": "code",
      "execution_count": null,
      "metadata": {
        "id": "LwBxeVCacr43"
      },
      "outputs": [],
      "source": [
        "str_nums = [\"4\", \"8\", \"6\", \"5\", \"3\", \"2\", \"8\", \"9\", \"2\", \"5\"]\n",
        "\n",
        "int_nums = map(int, str_nums)\n",
        "print(list(int_nums))"
      ]
    },
    {
      "cell_type": "code",
      "execution_count": null,
      "metadata": {
        "id": "X4m4hRGDbk-X"
      },
      "outputs": [],
      "source": [
        "\n",
        "# List of strings\n",
        "l = ['sat', 'bat', 'cat']\n",
        "\n",
        "# map() can listify the list of strings individually\n",
        "test = list(map(list, l))\n",
        "print(test)\n"
      ]
    },
    {
      "cell_type": "markdown",
      "metadata": {
        "id": "xvHlXGWq_Qcy"
      },
      "source": [
        "ASCII A-Z 65 -90 a-z 97-112"
      ]
    },
    {
      "cell_type": "code",
      "execution_count": null,
      "metadata": {
        "id": "q_ignXwMOKXQ"
      },
      "outputs": [],
      "source": [
        "alpha = 'ABCDEFGHIJKLMNO'\n",
        "d = {}\n",
        "for i in alpha:\n",
        "  d[i] = ord(i)\n",
        "\n",
        "d"
      ]
    },
    {
      "cell_type": "code",
      "execution_count": null,
      "metadata": {
        "id": "F-_-6IEniCXO"
      },
      "outputs": [],
      "source": [
        "ord('S')"
      ]
    },
    {
      "cell_type": "code",
      "execution_count": null,
      "metadata": {
        "id": "hGUbRN_tz7XT"
      },
      "outputs": [],
      "source": [
        "chr(78)"
      ]
    },
    {
      "cell_type": "code",
      "execution_count": null,
      "metadata": {
        "id": "2j7radiXboWD"
      },
      "outputs": [],
      "source": [
        "chr(ord('A')+2)"
      ]
    },
    {
      "cell_type": "markdown",
      "metadata": {
        "id": "7vpi1Ba4_c2H"
      },
      "source": [
        "#Join"
      ]
    },
    {
      "cell_type": "code",
      "execution_count": null,
      "metadata": {
        "id": "YGaHFVhs_cdF"
      },
      "outputs": [],
      "source": [
        "a = 'I like Pizza'\n",
        "'b'.join(a)"
      ]
    },
    {
      "cell_type": "code",
      "execution_count": null,
      "metadata": {
        "id": "p0ukHJPhigaE"
      },
      "outputs": [],
      "source": [
        "a = 'I like Pizza'\n",
        "b = 'b'.join(a)\n",
        "b = b.split()\n",
        "b"
      ]
    },
    {
      "cell_type": "code",
      "execution_count": null,
      "metadata": {
        "id": "o26EONvN_8Ty"
      },
      "outputs": [],
      "source": [
        "a = ['I', 'like', 'Pizza']\n",
        "'b '.join(a)"
      ]
    },
    {
      "cell_type": "markdown",
      "metadata": {
        "id": "EWlijvOqA7SV"
      },
      "source": [
        "# Range"
      ]
    },
    {
      "cell_type": "code",
      "execution_count": null,
      "metadata": {
        "id": "WJhxmZdnA660"
      },
      "outputs": [],
      "source": [
        "print(range(0,8)) # -> 0, 1, 2, 3, 4, 5, 6, 7"
      ]
    },
    {
      "cell_type": "code",
      "source": [
        "print(range(1, 10, 2))"
      ],
      "metadata": {
        "id": "32KNXx_oknPH"
      },
      "execution_count": null,
      "outputs": []
    },
    {
      "cell_type": "markdown",
      "metadata": {
        "id": "6bMjUZBdDptA"
      },
      "source": [
        "# Reminder, Quotient (%, // -> floor)"
      ]
    },
    {
      "cell_type": "code",
      "execution_count": null,
      "metadata": {
        "id": "UaGNotdjDqp1"
      },
      "outputs": [],
      "source": [
        "a = 10\n",
        "b = a/2\n",
        "b"
      ]
    },
    {
      "cell_type": "code",
      "execution_count": null,
      "metadata": {
        "id": "O5fhlcYADyiC"
      },
      "outputs": [],
      "source": [
        "b = 33//5\n",
        "b"
      ]
    },
    {
      "cell_type": "code",
      "execution_count": null,
      "metadata": {
        "id": "ZNcTAXLikQGt"
      },
      "outputs": [],
      "source": [
        "b = 33%5\n",
        "b"
      ]
    },
    {
      "cell_type": "code",
      "source": [
        "b = 13//5\n",
        "print(b)"
      ],
      "metadata": {
        "id": "Gu5QmmqkUm42"
      },
      "execution_count": null,
      "outputs": []
    },
    {
      "cell_type": "code",
      "source": [],
      "metadata": {
        "id": "viY_mqELiLug"
      },
      "execution_count": null,
      "outputs": []
    }
  ],
  "metadata": {
    "colab": {
      "provenance": [],
      "collapsed_sections": [
        "FY1Up7iRPnqG",
        "HHrOLQZfGlR-",
        "zldF2D_rGFUb",
        "1h-R_BP0GH3D",
        "KEFxIyg54FAV",
        "F6odpB4-u85P",
        "1y9IeGx8z7YZ",
        "ui9Hvcp-5Jnx",
        "Ha5CFfsbbPty",
        "7vpi1Ba4_c2H",
        "EWlijvOqA7SV",
        "6bMjUZBdDptA"
      ],
      "include_colab_link": true
    },
    "kernelspec": {
      "display_name": "Python 3",
      "language": "python",
      "name": "python3"
    },
    "language_info": {
      "codemirror_mode": {
        "name": "ipython",
        "version": 3
      },
      "file_extension": ".py",
      "mimetype": "text/x-python",
      "name": "python",
      "nbconvert_exporter": "python",
      "pygments_lexer": "ipython3",
      "version": "3.6.1"
    }
  },
  "nbformat": 4,
  "nbformat_minor": 0
}